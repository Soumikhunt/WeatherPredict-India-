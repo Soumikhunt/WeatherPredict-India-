{
  "nbformat": 4,
  "nbformat_minor": 0,
  "metadata": {
    "colab": {
      "provenance": [],
      "toc_visible": true
    },
    "kernelspec": {
      "name": "python3",
      "display_name": "Python 3"
    },
    "language_info": {
      "name": "python"
    }
  },
  "cells": [
    {
      "cell_type": "markdown",
      "source": [
        "# **Name: Soumik Ghosh , Roll No - 17  &  Shreyashree Roy , Roll No - 14**"
      ],
      "metadata": {
        "id": "ze6KthvMHtyG"
      }
    },
    {
      "cell_type": "markdown",
      "source": [
        "#Objective of the Assignment-1 :\n",
        " The goal of this assignment is to scrape data from multiple websites and prepare it for different analysis.\n",
        "\n",
        "This assignment includes cleaning and transforming raw data to make it usable for analysis. It also includes multiple datasets, merge them, and reshape them to make them suitable for analysis.\n"
      ],
      "metadata": {
        "id": "YCbHHODY_7dK"
      }
    },
    {
      "cell_type": "code",
      "execution_count": null,
      "metadata": {
        "id": "ov5z6P87u6jJ"
      },
      "outputs": [],
      "source": [
        "import requests\n",
        "import pandas as pd"
      ]
    },
    {
      "cell_type": "markdown",
      "source": [
        "#Data Source:\n",
        "\n",
        "* Weather related data\n",
        "* https://openweathermap.org/  &\n",
        "https://www.weatherbit.io/.\n",
        "* Weather realted by weatherbit and Aqi from openweathermap.\n"
      ],
      "metadata": {
        "id": "quOBesU7BgOA"
      }
    },
    {
      "cell_type": "code",
      "source": [
        "weatherbit_api_key = '8b5bd2f3a25542df876beb56a970cd40'\n",
        "openweather_api_key = '7e7c6625d0c279ddb0ebb6e8750407be'"
      ],
      "metadata": {
        "id": "qiMhJGfqxR2K"
      },
      "execution_count": null,
      "outputs": []
    },
    {
      "cell_type": "code",
      "source": [
        "cities_info = {\n",
        "    'India': {\n",
        "         'Andhra Pradesh': [\n",
        "        'Visakhapatnam', 'Vijayawada', 'Guntur', 'Nellore', 'Kakinada', 'Tirupati',\n",
        "        'Anantapur', 'Kadapa', 'Rajahmundry', 'Chittoor', 'Eluru', 'Ongole',\n",
        "        'Srikakulam', 'Kurnool', 'Bapatla', 'Peddaganjam', 'Palakollu',\n",
        "        'Adoni', 'Proddatur', 'Narsipatnam'\n",
        "    ],\n",
        "    'Arunachal Pradesh': [\n",
        "        'Itanagar', 'Pasighat', 'Tawang', 'Bomdila', 'Naharlagun', 'Tezu',\n",
        "        'Ziro', 'Aalo', 'Yingkiong', 'Seppa', 'Dirang', 'Changlang',\n",
        "        'Namsai', 'Roing', 'Nari', 'Tawang', 'Khowa', 'Khamti',\n",
        "        'Miao', 'Walong'\n",
        "    ],\n",
        "    'Assam': [\n",
        "        'Guwahati', 'Dibrugarh', 'Jorhat', 'Silchar', 'Nagaon', 'Tinsukia',\n",
        "        'Bongaigaon', 'Barpeta', 'Haflong', 'Karimganj', 'Nalbari', 'Goalpara',\n",
        "        'Dhubri', 'Kokrajhar', 'Sonitpur', 'Sivasagar', 'Baksa', 'Hojai',\n",
        "        'Lakhimpur', 'Mangaldoi'\n",
        "    ],\n",
        "    'Bihar': [\n",
        "        'Patna', 'Gaya', 'Bhagalpur', 'Muzaffarpur', 'Darbhanga', 'Arrah',\n",
        "        'Purnia', 'Hajipur', 'Siwan', 'Motihari', 'Samastipur', 'Katihar',\n",
        "        'Jamui', 'Kaimur', 'Nalanda', 'Buxar', 'Saharsa', 'Munger',\n",
        "        'Khagaria', 'Begusarai'\n",
        "    ],\n",
        "    'Chhattisgarh': [\n",
        "        'Raipur', 'Bhilai', 'Bilaspur', 'Korba', 'Durg', 'Jagdalpur',\n",
        "        'Raigarh', 'Ambikapur', 'Kawardha', 'Janjgir', 'Rajnandgaon', 'Mungeli',\n",
        "        'Kanker', 'Bastar', 'Dantewada', 'Sukma', 'Baloda Bazar', 'Saraipali',\n",
        "        'Champa', 'Surguja'\n",
        "    ],\n",
        "    'Goa': [\n",
        "        'Panaji', 'Vasco da Gama', 'Margao', 'Mapusa', 'Ponda', 'Cortalim',\n",
        "        'Curchorem', 'Bicholim', 'Pernem', 'Quepem', 'Salcete', 'Tiswadi',\n",
        "        'Sanguem', 'Canacona', 'Sanvordem', 'Dharbandora', 'Siolim',\n",
        "        'Calangute', 'Anjuna', 'Palolem'\n",
        "    ],\n",
        "    'Gujarat': [\n",
        "        'Ahmedabad', 'Surat', 'Vadodara', 'Rajkot', 'Gandhinagar', 'Bhavnagar',\n",
        "        'Jamnagar', 'Junagadh', 'Anand', 'Nadiad', 'Porbandar', 'Valsad',\n",
        "        'Bharuch', 'Mehsana', 'Gandhidham', 'Godhra', 'Patan', 'Palanpur',\n",
        "        'Navsari', 'Morbi'\n",
        "    ],\n",
        "    'Haryana': [\n",
        "        'Chandigarh', 'Gurgaon', 'Faridabad', 'Ambala', 'Karnal', 'Panipat',\n",
        "        'Hisar', 'Rohtak', 'Sirsa', 'Yamunanagar', 'Jind', 'Mahendragarh',\n",
        "        'Fatehabad', 'Kaithal', 'Palwal', 'Kurukshetra', 'Rewari', 'Bhiwani',\n",
        "        'Panchkula', 'Narwana'\n",
        "    ],\n",
        "    'Himachal Pradesh': [\n",
        "        'Shimla', 'Dharamshala', 'Manali', 'Kullu', 'Solan', 'Mandi',\n",
        "        'Bilaspur', 'Hamirpur', 'Kangra', 'Palampur', 'Una', 'Nahan',\n",
        "        'Chamba', 'Kasauli', 'Sundernagar', 'Jwalamukhi', 'Nalagarh',\n",
        "        'Sarahan', 'Pandoh', 'Junga'\n",
        "    ],\n",
        "    'Jammu and Kashmir': [\n",
        "        'Srinagar', 'Jammu', 'Anantnag', 'Udhampur', 'Kathua', 'Baramulla',\n",
        "        'Pulwama', 'Sopore', 'Kargil', 'Leh', 'Rajouri', 'Poonch',\n",
        "        'Samba', 'Doda', 'Ramban', 'Reasi', 'Kishtwar', 'Billawar',\n",
        "        'Akhnoor', 'Handwara'\n",
        "    ],\n",
        "    'Jharkhand': [\n",
        "        'Ranchi', 'Jamshedpur', 'Dhanbad', 'Bokaro Steel City', 'Hazaribagh',\n",
        "        'Giridih', 'Dumka', 'Deoghar', 'Ramgarh', 'Chaibasa', 'Koderma',\n",
        "        'Palamu', 'Latehar', 'Sahibganj', 'Godda', 'Pakur', 'Jamtara',\n",
        "        'Khunti', 'Simdega', 'Manoharpur'\n",
        "    ],\n",
        "    'Karnataka': [\n",
        "        'Bangalore', 'Mysore', 'Hubli', 'Belgaum', 'Mangalore', 'Davangere',\n",
        "        'Gulbarga', 'Tumkur', 'Udupi', 'Shimoga', 'Hassan', 'Bidar',\n",
        "        'Bellary', 'Chitradurga', 'Kolar', 'Hospet', 'Dharwad', 'Bagalkot',\n",
        "        'Karwar', 'Kundapur'\n",
        "    ],\n",
        "    'Kerala': [Comfort\n",
        "        'Thiruvananthapuram', 'Kochi', 'Kozhikode', 'Kollam', 'Thrissur',\n",
        "        'Alappuzha', 'Malappuram', 'Kannur', 'Palakkad', 'Kottayam',\n",
        "        'Pathanamthitta', 'Kasaragod', 'Wayanad', 'Ernakulam', 'Idukki',\n",
        "        'Muvattupuzha', 'Munnar', 'Changanassery', 'Vaikom', 'Punalur'\n",
        "    ],\n",
        "    'Madhya Pradesh': [\n",
        "        'Bhopal', 'Indore', 'Gwalior', 'Jabalpur', 'Ujjain', 'Satna',\n",
        "        'Sagar', 'Rewa', 'Khandwa', 'Hoshangabad', 'Dewas', 'Bhind',\n",
        "        'Chhindwara', 'Khargone', 'Mandsaur', 'Mandla', 'Sehore',\n",
        "        'Morena', 'Tikamgarh', 'Balaghat'\n",
        "    ],\n",
        "    'Maharashtra': [\n",
        "        'Mumbai', 'Pune', 'Nagpur', 'Nashik', 'Thane', 'Aurangabad',\n",
        "        'Solapur', 'Kolhapur', 'Jalgaon', 'Amravati', 'Chandrapur',\n",
        "        'Ratnagiri', 'Satara', 'Sangli', 'Latur', 'Osmanabad',\n",
        "        'Nanded', 'Parbhani', 'Akola', 'Washim'\n",
        "    ],\n",
        "    'Manipur': [\n",
        "        'Imphal', 'Thoubal', 'Churachandpur', 'Bishnupur', 'Jiribam',\n",
        "        'Moirang', 'Kakching', 'Tengnoupal', 'Nambol', 'Andro',\n",
        "        'Wangoi', 'Keishamthong', 'Lilong', 'Patsoi', 'Sapermeina',\n",
        "        'Khundrakpam', 'Kamjong', 'Senapati', 'Ukhrul', 'Chandel'\n",
        "    ],\n",
        "    'Meghalaya': [\n",
        "        'Shillong', 'Tura', 'Jowai', 'Nongpoh', 'Nongstoin', 'Mawkyrwat',\n",
        "        'Baghmara', 'Williamnagar', 'Khliehriat', 'Mairang', 'Resubelpara',\n",
        "        'Mahendraganj', 'Dadenggre', 'Jowai', 'Pynursla', 'Umroi',\n",
        "        'Shillong', 'Mawkyrwat', 'Nongstoin', 'Khliehriat'\n",
        "    ],\n",
        "    'Mizoram': [\n",
        "        'Aizawl', 'Lunglei', 'Serchhip', 'Champhai', 'Kolasib', 'Mamit',\n",
        "        'Saitual', 'Lawngtlai', 'Hnahthial', 'Saiha', 'Zawlnuam',\n",
        "        'Tlabung', 'North Vanlaiphai', 'Khawhai', 'Biate',\n",
        "        'Sairang', 'Thenzawl', 'Hnahlan', 'Khaddum', 'Phura'\n",
        "    ],\n",
        "    'Nagaland': [\n",
        "        'Kohima', 'Dimapur', 'Mokokchung', 'Tuensang', 'Wokha',\n",
        "        'Zunheboto', 'Mon', 'Phek', 'Kiphire', 'Longleng', 'Peren',\n",
        "        'Tseminyu', 'Chumukedima', 'Jalukie', 'Naginimora',\n",
        "        'Changtongya', 'Botsa', 'Pfutsero', 'Tuli', 'Tening'\n",
        "    ],\n",
        "    'Odisha': [\n",
        "        'Bhubaneswar', 'Cuttack', 'Rourkela', 'Berhampur', 'Sambalpur',\n",
        "        'Puri', 'Balasore', 'Baripada', 'Bhadrak', 'Jeypore',\n",
        "        'Angul', 'Dhenkanal', 'Jharsuguda', 'Balangir', 'Rayagada',\n",
        "        'Kendrapara', 'Phulbani', 'Jagatsinghpur', 'Malkangiri', 'Nabarangpur'\n",
        "    ],\n",
        "    'Punjab': [\n",
        "        'Amritsar', 'Ludhiana', 'Jalandhar', 'Patiala', 'Bathinda',\n",
        "        'Hoshiarpur', 'Mohali', 'Pathankot', 'Moga', 'Phagwara',\n",
        "        'Batala', 'Malerkotla', 'Firozpur', 'Rajpura', 'Barnala',\n",
        "        'Sangrur', 'Faridkot', 'Fatehgarh Sahib', 'Gurdaspur', 'Kapurthala'\n",
        "    ],\n",
        "    'Rajasthan': [\n",
        "        'Jaipur', 'Jodhpur', 'Udaipur', 'Ajmer', 'Bikaner',\n",
        "        'Kota', 'Alwar', 'Bharatpur', 'Pali', 'Sikar',\n",
        "        'Nagaur', 'Bhilwara', 'Tonk', 'Chittorgarh', 'Sri Ganganagar',\n",
        "        'Barmer', 'Jaisalmer', 'Jhunjhunu', 'Dungarpur', 'Bundi'\n",
        "    ],\n",
        "    'Sikkim': [\n",
        "        'Gangtok', 'Geyzing', 'Mangan', 'Namchi', 'Rangpo',\n",
        "        'Singtam', 'Jorethang', 'Pakyong', 'Ravangla', 'Yuksom',\n",
        "        'Soreng', 'Melli', 'Rhenock', 'Chungthang', 'Rangpo',\n",
        "        'Zuluk', 'Pelling', 'Legship', 'Lachen', 'Lachung'\n",
        "    ],\n",
        "    'Tamil Nadu': [\n",
        "        'Chennai', 'Coimbatore', 'Madurai', 'Tiruchirappalli', 'Salem',\n",
        "        'Tirunelveli', 'Vellore', 'Erode', 'Thoothukudi', 'Thanjavur',\n",
        "        'Nagercoil', 'Dindigul', 'Cuddalore', 'Kanchipuram', 'Tiruvannamalai',\n",
        "        'Karur', 'Namakkal', 'Pudukkottai', 'Rajapalayam', 'Sivakasi'\n",
        "    ],\n",
        "    'Telangana': [\n",
        "        'Hyderabad', 'Warangal', 'Nizamabad', 'Khammam', 'Karimnagar',\n",
        "        'Ramagundam', 'Mahbubnagar', 'Nalgonda', 'Adilabad', 'Suryapet',\n",
        "        'Zaheerabad', 'Jagtial', 'Miryalaguda', 'Mancherial', 'Siddipet',\n",
        "        'Kamareddy', 'Bodhan', 'Vikarabad', 'Medak', 'Bhongir'\n",
        "    ],\n",
        "    'Tripura': [\n",
        "        'Agartala', 'Udaipur', 'Dharmanagar', 'Kailashahar', 'Khowai',\n",
        "        'Belonia', 'Ambassa', 'Kamalpur', 'Bishalgarh', 'Sonamura',\n",
        "        'Ranirbazar', 'Melaghar', 'Sabroom', 'Panisagar', 'Jirania',\n",
        "        'Mohanpur', 'Amarpur', 'Bagafa', 'Teliamura', 'Teliamura'\n",
        "    ],\n",
        "    'Uttar Pradesh': [\n",
        "        'Lucknow', 'Kanpur', 'Ghaziabad', 'Agra', 'Varanasi',\n",
        "        'Meerut', 'Allahabad', 'Bareilly', 'Aligarh', 'Moradabad',\n",
        "        'Saharanpur', 'Gorakhpur', 'Noida', 'Firozabad', 'Jhansi',\n",
        "        'Muzaffarnagar', 'Mathura', 'Ayodhya', 'Shahjahanpur', 'Rampur'\n",
        "    ],\n",
        "    'Uttarakhand': [\n",
        "        'Dehradun', 'Haridwar', 'Rishikesh', 'Haldwani', 'Nainital',\n",
        "        'Roorkee', 'Kashipur', 'Rudrapur', 'Almora', 'Pithoragarh',\n",
        "        'Mussoorie', 'Kotdwara', 'Chamoli', 'Tehri', 'Srinagar',\n",
        "        'Bageshwar', 'Champawat', 'Lansdowne', 'Mukteshwar', 'Uttarkashi'\n",
        "    ],\n",
        "    'West Bengal': [\n",
        "        'Kolkata', 'Howrah', 'Durgapur', 'Asansol', 'Siliguri',\n",
        "        'Kharagpur', 'Bardhaman', 'Malda', 'Baharampur', 'Cooch Behar',\n",
        "        'Haldia', 'Raiganj', 'Jalpaiguri', 'Chandannagar', 'Nabadwip',\n",
        "        'Kalimpong', 'Midnapore', 'Bankura', 'Purulia', 'Darjeeling'\n",
        "    ],\n",
        "        'Rajasthan': [\n",
        "            'Jaipur', 'Udaipur', 'Kota', 'Jodhpur', 'Ajmer', 'Bikaner', 'Alwar', 'Bharatpur',\n",
        "            'Sikar', 'Pali', 'Churu', 'Hanumangarh', 'Jhunjhunu', 'Nagaur', 'Sawai Madhopur',\n",
        "            'Dausa', 'Barmer', 'Banswara', 'Jaisalmer', 'Rajsamand', 'Tonk', 'Jhalawar',\n",
        "            'Karauli', 'Sri Ganganagar'\n",
        "        ],\n",
        "        # Add other states and cities as required\n",
        "    },\n",
        "    'Bangladesh': {\n",
        "        'Dhaka Division': [\n",
        "            'Dhaka', 'Narayanganj', 'Gazipur', 'Tangail', 'Manikganj', 'Munshiganj', 'Kishoreganj',\n",
        "            'Mymensingh', 'Jamalpur', 'Sherpur', 'Netrakona'\n",
        "        ],\n",
        "        'Chattogram Division': [\n",
        "            'Chattogram', 'Cox\\'s Bazar', 'Feni', 'Bandarban', 'Rangamati', 'Khagrachari', 'Brahmanbaria',\n",
        "            'Lakshmipur', 'Noakhali', 'Comilla'\n",
        "        ],\n",
        "        'Rajshahi Division': [\n",
        "            'Rajshahi', 'Bogura', 'Naogaon', 'Pabna', 'Joypurhat', 'Chapainawabganj', 'Sirajganj',\n",
        "            'Kushtia', 'Meherpur', 'Satkhira'\n",
        "        ],\n",
        "        'Khulna Division': [\n",
        "            'Khulna', 'Jessore', 'Satkhira', 'Jhenidah', 'Magura', 'Chaudanga', 'Meherpur', 'Bagerhat',\n",
        "            'Narail', 'Kustia'\n",
        "        ],\n",
        "        'Barishal Division': [\n",
        "            'Barishal', 'Jhalokati', 'Patuakhali', 'Bhola', 'Jhalokati', 'Pirojpur'\n",
        "        ],\n",
        "        'Sylhet Division': [\n",
        "            'Sylhet', 'Habiganj', 'Moulvibazar', 'Sunamganj'\n",
        "        ],\n",
        "        'Rangpur Division': [\n",
        "            'Rangpur', 'Dinajpur', 'Thakurgaon', 'Kurigram', 'Lalmonirhat', 'Panchagarh', 'Gaibandha'\n",
        "        ],\n",
        "        'Mymensingh Division': [\n",
        "            'Mymensingh', 'Jamalpur', 'Netrokona', 'Sherpur'\n",
        "        ]\n",
        "    },\n",
        "    'Pakistan': {\n",
        "        'Punjab': ['Lahore', 'Faisalabad', 'Rawalpindi', 'Gujranwala', 'Multan', 'Sialkot'],\n",
        "        'Sindh': ['Karachi', 'Hyderabad', 'Sukkur', 'Larkana', 'Mirpur Khas', 'Nawabshah'],\n",
        "        'Khyber Pakhtunkhwa': ['Peshawar', 'Mardan', 'Abbottabad', 'Mingora', 'Kohat', 'Dera Ismail Khan'],\n",
        "        'Balochistan': ['Quetta', 'Gwadar', 'Khuzdar', 'Sibi', 'Turbat', 'Zhob'],\n",
        "        'Azad Jammu and Kashmir': ['Muzaffarabad', 'Mirpur', 'Rawalakot', 'Kotli', 'Bhimber', 'Bagh'],\n",
        "        'Gilgit-Baltistan': ['Gilgit', 'Skardu', 'Hunza', 'Chilas', 'Ghanche', 'Diamer']\n",
        "    },\n",
        "    'Nepal': {\n",
        "        'Province No. 1': ['Biratnagar', 'Dharan', 'Itahari', 'Birtamod', 'Damak', 'Inaruwa', 'Dhankuta', 'Ilam', 'Mechinagar', 'Duhabi'],\n",
        "        'Province No. 2': ['Janakpur', 'Birgunj', 'Rajbiraj', 'Gaur', 'Kalaiya', 'Lahan', 'Siraha', 'Malangwa', 'Jaleshwar', 'Simara'],\n",
        "        'Bagmati Province': ['Kathmandu', 'Lalitpur', 'Bhaktapur', 'Hetauda', 'Bharatpur', 'Banepa', 'Kirtipur', 'Panauti', 'Dhulikhel', 'Bidur'],\n",
        "        'Gandaki Province': ['Pokhara', 'Gorkha', 'Lekhnath', 'Bandipur', 'Baglung', 'Syangja', 'Beni', 'Kushma', 'Waling', 'Putalibazar'],\n",
        "        'Lumbini Province': ['Butwal', 'Bhairahawa', 'Kapilvastu', 'Tansen', 'Gulmi', 'Dang', 'Nepalgunj', 'Kohalpur', 'Pyuthan', 'Siddharthanagar'],\n",
        "        'Karnali Province': ['Birendranagar', 'Chaurjahari', 'Jumla', 'Kalikot', 'Dailekh', 'Rukumkot', 'Manma', 'Jajarkot', 'Surkhet', 'Musikot'],\n",
        "        'Sudurpashchim Province': ['Dhangadhi', 'Tikapur', 'Mahendranagar', 'Dipayal', 'Amargadhi', 'Dadeldhura', 'Baitadi', 'Doti', 'Bhimdatta', 'Achham']\n",
        "    },\n",
        "    'Bhutan': {\n",
        "    'Bumthang': ['Jakar', 'Ura', 'Chumey', 'Tang', 'Chhokhor'],\n",
        "    'Chhukha': ['Phuentsholing', 'Chhukha', 'Gedu', 'Tala', 'Darla'],\n",
        "    'Dagana': ['Dagapela', 'Lhamoizingkha', 'Tashiding'],\n",
        "    'Gasa': ['Gasa', 'Laya'],\n",
        "    'Haa': ['Haa', 'Dorokha', 'Sombaykha'],\n",
        "    'Lhuntse': ['Lhuntse', 'Minjey'],\n",
        "    'Mongar': ['Mongar', 'Gyalpoizhing', 'Lingmethang'],\n",
        "    'Paro': ['Paro', 'Drugyel Dzong', 'Shaba'],\n",
        "    'Pemagatshel': ['Pemagatshel', 'Nangkor'],\n",
        "    'Punakha': ['Punakha', 'Lobesa'],\n",
        "    'Samdrup Jongkhar': ['Samdrup Jongkhar', 'Dewathang'],\n",
        "    'Samtse': ['Samtse', 'Gomtu', 'Tashicholing'],\n",
        "    'Sarpang': ['Sarpang', 'Gelephu', 'Jigmeling'],\n",
        "    'Thimphu': ['Thimphu', 'Babesa', 'Dechencholing'],\n",
        "    'Trashigang': ['Trashigang', 'Kanglung', 'Rangjung'],\n",
        "    'Trongsa': ['Trongsa', 'Tashiling'],\n",
        "    'Tsirang': ['Tsirang', 'Damphu'],\n",
        "    'Wangdue Phodrang': ['Wangdue Phodrang', 'Bajo'],\n",
        "    'Zhemgang': ['Zhemgang', 'Tingtibi']\n",
        "    },\n",
        "    'Afghanistan': {\n",
        "    'Badakhshan': ['Fayzabad', 'Khash', 'Wurduj', 'Ishkashim', 'Zebak'],\n",
        "    'Badghis': ['Qala-e-Naw', 'Murghab', 'Ghormach', 'Bala Murghab', 'Qadis'],\n",
        "    'Baghlan': ['Pul-e-Khumri', 'Baghlan', 'Andarab', 'Dushi', 'Khost wa Firing'],\n",
        "    'Balkh': ['Mazar-i-Sharif', 'Balkh', 'Sholgara', 'Dehdadi', 'Kaldar'],\n",
        "    'Farah': ['Farah', 'Anar Dara', 'Khaki Safed', 'Pusht Rod', 'Lash Wa Juwayn'],\n",
        "    'Ghazni': ['Ghazni', 'Nawa', 'Malistan', 'Jaghori', 'Qarabagh'],\n",
        "    'Herat': ['Herat', 'Gulran', 'Karukh', 'Kushk', 'Obe'],\n",
        "    'Kabul': ['Kabul', 'Bagrami', 'Paghman', 'Shakardara', 'Musahi'],\n",
        "    'Kandahar': ['Kandahar', 'Spin Boldak', 'Shah Wali Kot', 'Daman', 'Arghandab'],\n",
        "    'Khost': ['Khost', 'Tani', 'Sabari', 'Spera', 'Nadir Shah Kot'],\n",
        "    'Nangarhar': ['Jalalabad', 'Kama', 'Achin', 'Bati Kot', 'Nazian'],\n",
        "    'Paktia': ['Gardez', 'Zurmat', 'Sayed Karam', 'Ahmad Aba', 'Chamkani']\n",
        "    },\n",
        "    'Tibet': {\n",
        "    'Lhasa': ['Lhasa', 'Chengguan', 'Doilungdêqên', 'Dagzê'],\n",
        "    'Shigatse': ['Shigatse', 'Gyantse', 'Sakya', 'Lhatse', 'Tingri'],\n",
        "    'Nagqu': ['Nagqu', 'Biru', 'Sog', 'Nyainrong', 'Baingoin'],\n",
        "    'Nyingchi': ['Nyingchi', 'Mainling', 'Bayi', 'Lang', 'Medog'],\n",
        "    'Ngari': ['Shiquanhe', 'Gar', 'Rutog', 'Zanda', 'Geji'],\n",
        "    'Chamdo': ['Chamdo', 'Gonjo', 'Baxoi', 'Markam', 'Zogang'],\n",
        "    'Lhoka': ['Lhoka', 'Nêdong', 'Zhanang', 'Comai', 'Lhozhag']\n",
        "    }\n",
        "\n",
        "}"
      ],
      "metadata": {
        "id": "LqbRl-ynxgrQ"
      },
      "execution_count": null,
      "outputs": []
    },
    {
      "cell_type": "code",
      "source": [
        "combined_data = []"
      ],
      "metadata": {
        "id": "Ij8yTaKNx-kJ"
      },
      "execution_count": null,
      "outputs": []
    },
    {
      "cell_type": "markdown",
      "source": [
        "# Web Scraping:\n",
        "\n",
        "* Use two website api\n",
        "* Store the scraped data into a csv  format\n",
        "\n",
        "\n",
        "\n",
        "The code integrates **two APIs—OpenWeatherMap and Weatherbit—to dynamically fetch real-time weather and air quality data for various cities**. It constructs HTTP GET requests, checks response statuses, and parses JSON data to extract relevant metrics. The implementation ensures robust error handling and formats timestamps for readability. This approach allows for scalable data retrieval and provides comprehensive environmental insights. Utilizing APIs enhances efficiency, access to rich datasets, and interoperability between systems."
      ],
      "metadata": {
        "id": "AKs97ums_o2e"
      }
    },
    {
      "cell_type": "code",
      "source": [
        "for country, states in cities_info.items():\n",
        "    for state, cities in states.items():\n",
        "        for city in cities:\n",
        "            # Fetch city coordinates from OpenWeatherMap\n",
        "            geocode_url = f\"http://api.openweathermap.org/data/2.5/weather?q={city}&appid={openweather_api_key}\"\n",
        "            geocode_response = requests.get(geocode_url)\n",
        "            geocode_data = geocode_response.json()\n",
        "\n",
        "            if geocode_response.status_code == 200 and 'coord' in geocode_data:\n",
        "                lat = geocode_data['coord']['lat']\n",
        "                lon = geocode_data['coord']['lon']\n",
        "                timezone = geocode_data.get('timezone', 'N/A')\n",
        "                timestamp = geocode_data.get('dt', None)  # Timestamp from OpenWeatherMap (if available)\n",
        "\n",
        "                # Convert timestamp into human-readable format (if timestamp exists)\n",
        "                if timestamp:\n",
        "                    from datetime import datetime\n",
        "                    city_datetime = datetime.utcfromtimestamp(timestamp).strftime('%Y-%m-%d %H:%M:%S')\n",
        "                else:\n",
        "                    city_datetime = 'N/A'\n",
        "\n",
        "                # Fetch weather data from Weatherbit\n",
        "                weatherbit_url = f\"https://api.weatherbit.io/v2.0/current?lat={lat}&lon={lon}&key={weatherbit_api_key}\"\n",
        "                weatherbit_response = requests.get(weatherbit_url)\n",
        "                weatherbit_data = weatherbit_response.json()\n",
        "\n",
        "                if weatherbit_response.status_code == 200 and 'data' in weatherbit_data:\n",
        "                    weather_data = weatherbit_data['data'][0]\n",
        "\n",
        "                    # Fetch daily forecast to get max and min temperature\n",
        "                    daily_forecast_url = f\"https://api.weatherbit.io/v2.0/forecast/daily?lat={lat}&lon={lon}&key={weatherbit_api_key}&days=1\"\n",
        "                    daily_forecast_response = requests.get(daily_forecast_url)\n",
        "                    daily_forecast_data = daily_forecast_response.json()\n",
        "\n",
        "                    if daily_forecast_response.status_code == 200 and 'data' in daily_forecast_data:\n",
        "                        daily_data = daily_forecast_data['data'][0]\n",
        "                        max_temp = daily_data.get('max_temp', 'N/A')\n",
        "                        min_temp = daily_data.get('min_temp', 'N/A')\n",
        "\n",
        "                        city_data = {\n",
        "                            'City': city,\n",
        "                            'State': state,\n",
        "                            'Country': country,\n",
        "                            'Latitude': lat,\n",
        "                            'Longitude': lon,\n",
        "                            'Timezone': timezone,\n",
        "                            'Timestamp (OpenWeatherMap)': city_datetime,  # Date and time from OpenWeatherMap\n",
        "                            'Sunrise': weather_data.get('sunrise', 'N/A'),\n",
        "                            'Sunset': weather_data.get('sunset', 'N/A'),\n",
        "                            'Temperature': weather_data.get('temp', 'N/A'),\n",
        "                            'Feels Like (Day)': weather_data.get('app_temp', 'N/A'),\n",
        "                            'Feels Like (Night)': weather_data.get('app_temp', 'N/A'),\n",
        "                            'Pressure': weather_data.get('pres', 'N/A'),\n",
        "                            'Humidity': weather_data.get('rh', 'N/A'),\n",
        "                            'Dew Point': weather_data.get('dewpt', 'N/A'),\n",
        "                            'UV Index': weather_data.get('uv', 'N/A'),\n",
        "                            'Cloud Cover': weather_data.get('clouds', 'N/A'),\n",
        "                            'Visibility': weather_data.get('vis', 'N/A'),\n",
        "                            'Wind Speed': weather_data.get('wind_spd', 'N/A'),\n",
        "                            'Wind Direction': weather_data.get('wind_dir', 'N/A'),\n",
        "                            'Wind Gust': weather_data.get('wind_gust', 'N/A'),\n",
        "                            'Weather Description': weather_data['weather']['description'] if 'weather' in weather_data else 'N/A',\n",
        "                            'Max Temperature': max_temp,\n",
        "                            'Min Temperature': min_temp\n",
        "                        }\n",
        "\n",
        "                        # Fetch air quality data from OpenWeatherMap\n",
        "                        air_quality_url = f\"http://api.openweathermap.org/data/2.5/air_pollution?lat={lat}&lon={lon}&appid={openweather_api_key}\"\n",
        "                        air_quality_response = requests.get(air_quality_url)\n",
        "                        air_quality_data = air_quality_response.json()\n",
        "\n",
        "                        if 'list' in air_quality_data and len(air_quality_data['list']) > 0:\n",
        "                            air_quality = air_quality_data['list'][0]\n",
        "                            city_data.update({\n",
        "                                'AQI': air_quality['main']['aqi'],\n",
        "                                'PM2.5': air_quality['components'].get('pm2_5', 'N/A'),\n",
        "                                'PM10': air_quality['components'].get('pm10', 'N/A'),\n",
        "                                'O3': air_quality['components'].get('o3', 'N/A'),\n",
        "                                'CO': air_quality['components'].get('co', 'N/A')\n",
        "                            })\n",
        "\n",
        "                        combined_data.append(city_data)"
      ],
      "metadata": {
        "id": "ddO7CaUG3Lci"
      },
      "execution_count": null,
      "outputs": []
    },
    {
      "cell_type": "code",
      "source": [
        "df = pd.DataFrame(combined_data)\n",
        "df.to_csv('weather_final_report.csv', index=False)"
      ],
      "metadata": {
        "id": "GePjkICO3PsC"
      },
      "execution_count": null,
      "outputs": []
    },
    {
      "cell_type": "code",
      "source": [
        "from google.colab import files\n",
        "files.download('weather_final_report.csv')"
      ],
      "metadata": {
        "colab": {
          "base_uri": "https://localhost:8080/",
          "height": 17
        },
        "id": "tnwfCN7j9RAd",
        "outputId": "53abca8d-6f4e-4d3f-e3f6-8974208242ad"
      },
      "execution_count": null,
      "outputs": [
        {
          "output_type": "display_data",
          "data": {
            "text/plain": [
              "<IPython.core.display.Javascript object>"
            ],
            "application/javascript": [
              "\n",
              "    async function download(id, filename, size) {\n",
              "      if (!google.colab.kernel.accessAllowed) {\n",
              "        return;\n",
              "      }\n",
              "      const div = document.createElement('div');\n",
              "      const label = document.createElement('label');\n",
              "      label.textContent = `Downloading \"${filename}\": `;\n",
              "      div.appendChild(label);\n",
              "      const progress = document.createElement('progress');\n",
              "      progress.max = size;\n",
              "      div.appendChild(progress);\n",
              "      document.body.appendChild(div);\n",
              "\n",
              "      const buffers = [];\n",
              "      let downloaded = 0;\n",
              "\n",
              "      const channel = await google.colab.kernel.comms.open(id);\n",
              "      // Send a message to notify the kernel that we're ready.\n",
              "      channel.send({})\n",
              "\n",
              "      for await (const message of channel.messages) {\n",
              "        // Send a message to notify the kernel that we're ready.\n",
              "        channel.send({})\n",
              "        if (message.buffers) {\n",
              "          for (const buffer of message.buffers) {\n",
              "            buffers.push(buffer);\n",
              "            downloaded += buffer.byteLength;\n",
              "            progress.value = downloaded;\n",
              "          }\n",
              "        }\n",
              "      }\n",
              "      const blob = new Blob(buffers, {type: 'application/binary'});\n",
              "      const a = document.createElement('a');\n",
              "      a.href = window.URL.createObjectURL(blob);\n",
              "      a.download = filename;\n",
              "      div.appendChild(a);\n",
              "      a.click();\n",
              "      div.remove();\n",
              "    }\n",
              "  "
            ]
          },
          "metadata": {}
        },
        {
          "output_type": "display_data",
          "data": {
            "text/plain": [
              "<IPython.core.display.Javascript object>"
            ],
            "application/javascript": [
              "download(\"download_68e4e697-d5cf-4306-8d53-e2275cf27e3e\", \"weather_final_report.csv\", 130121)"
            ]
          },
          "metadata": {}
        }
      ]
    },
    {
      "cell_type": "code",
      "source": [
        "from google.colab import files"
      ],
      "metadata": {
        "id": "B_cxLRf39Uqk"
      },
      "execution_count": 1,
      "outputs": []
    },
    {
      "cell_type": "code",
      "source": [
        "uploaded = files.upload()"
      ],
      "metadata": {
        "colab": {
          "base_uri": "https://localhost:8080/",
          "height": 73
        },
        "id": "Azbe2qhJokOW",
        "outputId": "7464401a-af7d-4975-97d5-d3c03dcb6e4a"
      },
      "execution_count": 2,
      "outputs": [
        {
          "output_type": "display_data",
          "data": {
            "text/plain": [
              "<IPython.core.display.HTML object>"
            ],
            "text/html": [
              "\n",
              "     <input type=\"file\" id=\"files-9e41d73c-c43b-41d2-ba99-3cafa3f5bac2\" name=\"files[]\" multiple disabled\n",
              "        style=\"border:none\" />\n",
              "     <output id=\"result-9e41d73c-c43b-41d2-ba99-3cafa3f5bac2\">\n",
              "      Upload widget is only available when the cell has been executed in the\n",
              "      current browser session. Please rerun this cell to enable.\n",
              "      </output>\n",
              "      <script>// Copyright 2017 Google LLC\n",
              "//\n",
              "// Licensed under the Apache License, Version 2.0 (the \"License\");\n",
              "// you may not use this file except in compliance with the License.\n",
              "// You may obtain a copy of the License at\n",
              "//\n",
              "//      http://www.apache.org/licenses/LICENSE-2.0\n",
              "//\n",
              "// Unless required by applicable law or agreed to in writing, software\n",
              "// distributed under the License is distributed on an \"AS IS\" BASIS,\n",
              "// WITHOUT WARRANTIES OR CONDITIONS OF ANY KIND, either express or implied.\n",
              "// See the License for the specific language governing permissions and\n",
              "// limitations under the License.\n",
              "\n",
              "/**\n",
              " * @fileoverview Helpers for google.colab Python module.\n",
              " */\n",
              "(function(scope) {\n",
              "function span(text, styleAttributes = {}) {\n",
              "  const element = document.createElement('span');\n",
              "  element.textContent = text;\n",
              "  for (const key of Object.keys(styleAttributes)) {\n",
              "    element.style[key] = styleAttributes[key];\n",
              "  }\n",
              "  return element;\n",
              "}\n",
              "\n",
              "// Max number of bytes which will be uploaded at a time.\n",
              "const MAX_PAYLOAD_SIZE = 100 * 1024;\n",
              "\n",
              "function _uploadFiles(inputId, outputId) {\n",
              "  const steps = uploadFilesStep(inputId, outputId);\n",
              "  const outputElement = document.getElementById(outputId);\n",
              "  // Cache steps on the outputElement to make it available for the next call\n",
              "  // to uploadFilesContinue from Python.\n",
              "  outputElement.steps = steps;\n",
              "\n",
              "  return _uploadFilesContinue(outputId);\n",
              "}\n",
              "\n",
              "// This is roughly an async generator (not supported in the browser yet),\n",
              "// where there are multiple asynchronous steps and the Python side is going\n",
              "// to poll for completion of each step.\n",
              "// This uses a Promise to block the python side on completion of each step,\n",
              "// then passes the result of the previous step as the input to the next step.\n",
              "function _uploadFilesContinue(outputId) {\n",
              "  const outputElement = document.getElementById(outputId);\n",
              "  const steps = outputElement.steps;\n",
              "\n",
              "  const next = steps.next(outputElement.lastPromiseValue);\n",
              "  return Promise.resolve(next.value.promise).then((value) => {\n",
              "    // Cache the last promise value to make it available to the next\n",
              "    // step of the generator.\n",
              "    outputElement.lastPromiseValue = value;\n",
              "    return next.value.response;\n",
              "  });\n",
              "}\n",
              "\n",
              "/**\n",
              " * Generator function which is called between each async step of the upload\n",
              " * process.\n",
              " * @param {string} inputId Element ID of the input file picker element.\n",
              " * @param {string} outputId Element ID of the output display.\n",
              " * @return {!Iterable<!Object>} Iterable of next steps.\n",
              " */\n",
              "function* uploadFilesStep(inputId, outputId) {\n",
              "  const inputElement = document.getElementById(inputId);\n",
              "  inputElement.disabled = false;\n",
              "\n",
              "  const outputElement = document.getElementById(outputId);\n",
              "  outputElement.innerHTML = '';\n",
              "\n",
              "  const pickedPromise = new Promise((resolve) => {\n",
              "    inputElement.addEventListener('change', (e) => {\n",
              "      resolve(e.target.files);\n",
              "    });\n",
              "  });\n",
              "\n",
              "  const cancel = document.createElement('button');\n",
              "  inputElement.parentElement.appendChild(cancel);\n",
              "  cancel.textContent = 'Cancel upload';\n",
              "  const cancelPromise = new Promise((resolve) => {\n",
              "    cancel.onclick = () => {\n",
              "      resolve(null);\n",
              "    };\n",
              "  });\n",
              "\n",
              "  // Wait for the user to pick the files.\n",
              "  const files = yield {\n",
              "    promise: Promise.race([pickedPromise, cancelPromise]),\n",
              "    response: {\n",
              "      action: 'starting',\n",
              "    }\n",
              "  };\n",
              "\n",
              "  cancel.remove();\n",
              "\n",
              "  // Disable the input element since further picks are not allowed.\n",
              "  inputElement.disabled = true;\n",
              "\n",
              "  if (!files) {\n",
              "    return {\n",
              "      response: {\n",
              "        action: 'complete',\n",
              "      }\n",
              "    };\n",
              "  }\n",
              "\n",
              "  for (const file of files) {\n",
              "    const li = document.createElement('li');\n",
              "    li.append(span(file.name, {fontWeight: 'bold'}));\n",
              "    li.append(span(\n",
              "        `(${file.type || 'n/a'}) - ${file.size} bytes, ` +\n",
              "        `last modified: ${\n",
              "            file.lastModifiedDate ? file.lastModifiedDate.toLocaleDateString() :\n",
              "                                    'n/a'} - `));\n",
              "    const percent = span('0% done');\n",
              "    li.appendChild(percent);\n",
              "\n",
              "    outputElement.appendChild(li);\n",
              "\n",
              "    const fileDataPromise = new Promise((resolve) => {\n",
              "      const reader = new FileReader();\n",
              "      reader.onload = (e) => {\n",
              "        resolve(e.target.result);\n",
              "      };\n",
              "      reader.readAsArrayBuffer(file);\n",
              "    });\n",
              "    // Wait for the data to be ready.\n",
              "    let fileData = yield {\n",
              "      promise: fileDataPromise,\n",
              "      response: {\n",
              "        action: 'continue',\n",
              "      }\n",
              "    };\n",
              "\n",
              "    // Use a chunked sending to avoid message size limits. See b/62115660.\n",
              "    let position = 0;\n",
              "    do {\n",
              "      const length = Math.min(fileData.byteLength - position, MAX_PAYLOAD_SIZE);\n",
              "      const chunk = new Uint8Array(fileData, position, length);\n",
              "      position += length;\n",
              "\n",
              "      const base64 = btoa(String.fromCharCode.apply(null, chunk));\n",
              "      yield {\n",
              "        response: {\n",
              "          action: 'append',\n",
              "          file: file.name,\n",
              "          data: base64,\n",
              "        },\n",
              "      };\n",
              "\n",
              "      let percentDone = fileData.byteLength === 0 ?\n",
              "          100 :\n",
              "          Math.round((position / fileData.byteLength) * 100);\n",
              "      percent.textContent = `${percentDone}% done`;\n",
              "\n",
              "    } while (position < fileData.byteLength);\n",
              "  }\n",
              "\n",
              "  // All done.\n",
              "  yield {\n",
              "    response: {\n",
              "      action: 'complete',\n",
              "    }\n",
              "  };\n",
              "}\n",
              "\n",
              "scope.google = scope.google || {};\n",
              "scope.google.colab = scope.google.colab || {};\n",
              "scope.google.colab._files = {\n",
              "  _uploadFiles,\n",
              "  _uploadFilesContinue,\n",
              "};\n",
              "})(self);\n",
              "</script> "
            ]
          },
          "metadata": {}
        },
        {
          "output_type": "stream",
          "name": "stdout",
          "text": [
            "Saving weather_final_report(1).csv to weather_final_report(1).csv\n"
          ]
        }
      ]
    },
    {
      "cell_type": "code",
      "source": [
        "import pandas as pd"
      ],
      "metadata": {
        "id": "5QPg6xuBpaCt"
      },
      "execution_count": 3,
      "outputs": []
    },
    {
      "cell_type": "code",
      "source": [
        "df_W = pd.read_csv('weather_final_report(1).csv')"
      ],
      "metadata": {
        "id": "gfTWJAykpjk-"
      },
      "execution_count": 4,
      "outputs": []
    },
    {
      "cell_type": "markdown",
      "source": [
        "## Weather Information\n",
        "**City**: Name of the city.\n",
        "\n",
        "**State:** Name of the state.\n",
        "\n",
        "**Country**: Name of the country.\n",
        "\n",
        "**Latitude**: Geographic coordinate indicating the north-south position.\n",
        "\n",
        "**Longitude**: Geographic coordinate indicating the east-west position.\n",
        "\n",
        "**Timezone**: Timezone of the location.\n",
        "\n",
        "**Timestamp** (OpenWeatherMap): Date and time when the data was recorded.\n",
        "\n",
        "**Sunrise**: Time of sunrise.\n",
        "\n",
        "**Sunset**: Time of sunset.\n",
        "\n",
        "**Temperature**: Current temperature.\n",
        "\n",
        "**Feels** Like (Day): Perceived temperature during the day.\n",
        "\n",
        "**Feels** Like (Night): Perceived temperature during the night.\n",
        "\n",
        "**Pressure**: Atmospheric pressure.\n",
        "\n",
        "**Humidity**: Humidity percentage.\n",
        "\n",
        "**Dew Point**: Temperature at which air becomes saturated with moisture.\n",
        "\n",
        "**UV Index**: UV radiation level.\n",
        "\n",
        "**Cloud Cover**: Percentage of cloud cover.\n",
        "\n",
        "**Visibility**: Distance at which objects can be clearly seen.\n",
        "\n",
        "**Wind Speed**: Speed of the wind.\n",
        "\n",
        "**Wind Direction**: Direction from which the wind is blowing.his variable is typically measured in degrees, with 0° representing true north. It indicates the origin of the wind flow, providing valuable insights into weather patterns and helping to understand local climate conditions.\n",
        "\n",
        "**Wind Gust**: Brief increases in wind speed.Wind gusts refer to short bursts of high wind speed that can vary significantly from the sustained wind speed. These gusts typically last for a few seconds and are important for assessing the potential impact on structures and the environment.\n",
        "\n",
        "**Weather Description**: A brief description of the weather conditions.\n",
        "\n",
        "**Max Temperature**: Maximum temperature recorded.\n",
        "\n",
        "**Min Temperature**: Minimum temperature recorded."
      ],
      "metadata": {
        "id": "FCW-6D8G3Ri2"
      }
    },
    {
      "cell_type": "markdown",
      "source": [
        "## Air Quality Information\n",
        "\n",
        "**AQI**: Air Quality Index.The AQI is a standardized system for measuring and communicating air quality levels, reflecting the potential health effects associated with various pollutants. It ranges from good to hazardous, helping the public understand the quality of the air they breathe.\n",
        "\n",
        "**PM2.5**: Concentration of fine particulate matter (2.5 micrometers or smaller).his refers to the concentration of fine particulate matter that is 2.5 micrometers in diameter or smaller. These particles can penetrate deep into the lungs and even enter the bloodstream, posing significant health risks, particularly for vulnerable populations.\n",
        "\n",
        "**PM10**: Concentration of particulate matter (10 micrometers or smaller).PM10 indicates the concentration of particulate matter with a diameter of 10 micrometers or smaller. While these particles are generally larger than PM2.5, they can still cause respiratory issues and other health problems when inhaled, especially during dust storms or high pollution events.\n",
        "\n",
        "**O3**: Ozone concentration.\n",
        "\n",
        "**CO**: Carbon monoxide concentration."
      ],
      "metadata": {
        "id": "pNtouEFvDXj7"
      }
    },
    {
      "cell_type": "code",
      "source": [
        "print(df_W.head())"
      ],
      "metadata": {
        "colab": {
          "base_uri": "https://localhost:8080/"
        },
        "id": "HqSzG6TG2Baq",
        "outputId": "0df34a2c-6294-458b-f96d-a69e2de41e5e"
      },
      "execution_count": 5,
      "outputs": [
        {
          "output_type": "stream",
          "name": "stdout",
          "text": [
            "            City           State Country  Latitude  Longitude  Timezone  \\\n",
            "0  Visakhapatnam  Andhra Pradesh   India   17.6900    83.2093     19800   \n",
            "1     Vijayawada  Andhra Pradesh   India   16.5167    80.6167     19800   \n",
            "2         Guntur  Andhra Pradesh   India   16.3000    80.4500     19800   \n",
            "3        Nellore  Andhra Pradesh   India   14.4333    79.9667     19800   \n",
            "4       Kakinada  Andhra Pradesh   India   16.9333    82.2167     19800   \n",
            "\n",
            "  Timestamp (OpenWeatherMap) Sunrise Sunset  Temperature  ...  Wind Direction  \\\n",
            "0        2024-09-20 08:50:26   00:15  12:25         32.6  ...             144   \n",
            "1        2024-09-20 08:50:26   00:25  12:34         35.0  ...             300   \n",
            "2        2024-09-20 08:50:26   00:25  12:34         34.3  ...             310   \n",
            "3        2024-09-20 08:50:27   00:30  12:39         37.0  ...             312   \n",
            "4        2024-09-20 08:50:27   00:21  12:30         34.5  ...             253   \n",
            "\n",
            "   Wind Gust  Weather Description  Max Temperature  Min Temperature  AQI  \\\n",
            "0        NaN     Scattered clouds             31.4             27.5    5   \n",
            "1        NaN            Clear sky             34.6             28.3    3   \n",
            "2        NaN        Broken clouds             34.5             28.0    3   \n",
            "3        NaN            Clear sky             36.7             27.6    3   \n",
            "4        NaN        Broken clouds             32.2             26.8    2   \n",
            "\n",
            "    PM2.5    PM10      O3       CO  \n",
            "0  240.88  261.69    1.68  3337.86  \n",
            "1   18.12   21.41  110.15   287.06  \n",
            "2   24.71   29.83  114.44   317.10  \n",
            "3   20.99   23.56  121.59   243.66  \n",
            "4   10.08   11.41   74.39   370.50  \n",
            "\n",
            "[5 rows x 29 columns]\n"
          ]
        }
      ]
    },
    {
      "cell_type": "markdown",
      "source": [
        "# Merging Data(Handling missing value ):\n",
        "\n",
        "  **The following section checks whether the 'Wind Gust' column in the DataFrame df_W contains only null values.** If all values in the column are null, it removes the 'Wind Gust' column from the DataFrame. The code also prints a confirmation message indicating that the column has been successfully dropped. This operation helps in cleaning the dataset by eliminating unnecessary columns that do not provide useful information for analysis.\n",
        "The **isnull().all()** function checks if all values in a specified column are null (i.e., missing) and returns True if every value is null; otherwise, it returns False."
      ],
      "metadata": {
        "id": "uFngb1Aa635o"
      }
    },
    {
      "cell_type": "code",
      "source": [
        "if df_W['Wind Gust'].isnull().all():\n",
        "    df_W = df_W.drop(columns=['Wind Gust'])\n",
        "    print(\"'Wind Gust' column has been dropped.\")"
      ],
      "metadata": {
        "colab": {
          "base_uri": "https://localhost:8080/"
        },
        "id": "oR-d4LQDpxuo",
        "outputId": "921d5f62-d88c-484d-97de-c25916be10e4"
      },
      "execution_count": 6,
      "outputs": [
        {
          "output_type": "stream",
          "name": "stdout",
          "text": [
            "'Wind Gust' column has been dropped.\n"
          ]
        }
      ]
    },
    {
      "cell_type": "code",
      "source": [
        "print(df_W)"
      ],
      "metadata": {
        "colab": {
          "base_uri": "https://localhost:8080/"
        },
        "id": "oZHVTvHepxl4",
        "outputId": "6db4a3ab-a7fe-4c5a-ca77-da32cc1e65ca"
      },
      "execution_count": 7,
      "outputs": [
        {
          "output_type": "stream",
          "name": "stdout",
          "text": [
            "              City           State Country  Latitude  Longitude  Timezone  \\\n",
            "0    Visakhapatnam  Andhra Pradesh   India   17.6900    83.2093     19800   \n",
            "1       Vijayawada  Andhra Pradesh   India   16.5167    80.6167     19800   \n",
            "2           Guntur  Andhra Pradesh   India   16.3000    80.4500     19800   \n",
            "3          Nellore  Andhra Pradesh   India   14.4333    79.9667     19800   \n",
            "4         Kakinada  Andhra Pradesh   India   16.9333    82.2167     19800   \n",
            "..             ...             ...     ...       ...        ...       ...   \n",
            "745      Shiquanhe           Ngari   Tibet   32.5167    80.0667     28800   \n",
            "746            Gar           Ngari   Tibet   32.2000    79.9833     28800   \n",
            "747          Rutog           Ngari   Tibet   33.4184    79.6392     28800   \n",
            "748          Zanda           Ngari   Tibet   31.4813    79.8013     28800   \n",
            "749           Geji           Ngari   Tibet   32.4167    81.0833     28800   \n",
            "\n",
            "    Timestamp (OpenWeatherMap) Sunrise Sunset  Temperature  ...  Wind Speed  \\\n",
            "0          2024-09-20 08:50:26   00:15  12:25         32.6  ...        2.30   \n",
            "1          2024-09-20 08:50:26   00:25  12:34         35.0  ...        5.14   \n",
            "2          2024-09-20 08:50:26   00:25  12:34         34.3  ...        3.20   \n",
            "3          2024-09-20 08:50:27   00:30  12:39         37.0  ...        5.80   \n",
            "4          2024-09-20 08:50:27   00:21  12:30         34.5  ...        3.50   \n",
            "..                         ...     ...    ...          ...  ...         ...   \n",
            "745        2024-09-20 08:54:26   00:18  12:31         14.7  ...        2.90   \n",
            "746        2024-09-20 08:54:26   00:18  12:31          8.5  ...        3.30   \n",
            "747        2024-09-20 08:54:27   00:18  12:31          8.0  ...        4.30   \n",
            "748        2024-09-20 08:54:27   00:18  12:31         17.2  ...        2.40   \n",
            "749        2024-09-20 08:54:27   00:18  12:31         13.4  ...        2.40   \n",
            "\n",
            "     Wind Direction  Weather Description  Max Temperature  Min Temperature  \\\n",
            "0               144     Scattered clouds             31.4             27.5   \n",
            "1               300            Clear sky             34.6             28.3   \n",
            "2               310        Broken clouds             34.5             28.0   \n",
            "3               312            Clear sky             36.7             27.6   \n",
            "4               253        Broken clouds             32.2             26.8   \n",
            "..              ...                  ...              ...              ...   \n",
            "745             214            Clear sky             15.2              1.6   \n",
            "746             224            Clear sky             13.9              0.4   \n",
            "747             219            Clear sky             15.8              1.9   \n",
            "748              28            Clear sky             16.3              3.9   \n",
            "749             261            Clear sky             14.7             -1.9   \n",
            "\n",
            "     AQI   PM2.5    PM10      O3       CO  \n",
            "0      5  240.88  261.69    1.68  3337.86  \n",
            "1      3   18.12   21.41  110.15   287.06  \n",
            "2      3   24.71   29.83  114.44   317.10  \n",
            "3      3   20.99   23.56  121.59   243.66  \n",
            "4      2   10.08   11.41   74.39   370.50  \n",
            "..   ...     ...     ...     ...      ...  \n",
            "745    2    2.45   10.61   73.67   143.53  \n",
            "746    2    2.52   10.34   75.82   145.20  \n",
            "747    2    1.55    5.56   66.52   163.56  \n",
            "748    2    2.90   13.04   76.53   151.87  \n",
            "749    2    1.13    3.12   81.54   126.84  \n",
            "\n",
            "[750 rows x 28 columns]\n"
          ]
        }
      ]
    },
    {
      "cell_type": "code",
      "source": [
        "numerical_columns = [\n",
        "    'Temperature', 'Feels Like (Day)', 'Feels Like (Night)', 'Pressure',\n",
        "    'Humidity', 'Dew Point', 'UV Index', 'Cloud Cover', 'Visibility',\n",
        "    'Wind Speed', 'Max Temperature', 'Min Temperature',\n",
        "    'AQI', 'PM2.5', 'PM10', 'O3', 'CO'\n",
        "]\n"
      ],
      "metadata": {
        "id": "1_-h_oussabA"
      },
      "execution_count": 8,
      "outputs": []
    },
    {
      "cell_type": "markdown",
      "source": [
        "# Data Transformation:\n",
        "This code utilizes **the StandardScaler from the sklearn.preprocessing module to apply Z-score normalization to the numerical columns of the DataFrame df_W**. It initializes the scaler, transforms the specified numerical columns to have a mean of 0 and a standard deviation of 1, and updates the DataFrame with these normalized values."
      ],
      "metadata": {
        "id": "1gJ2Rko37n18"
      }
    },
    {
      "cell_type": "code",
      "source": [
        "from sklearn.preprocessing import StandardScaler\n",
        "\n",
        "# Initialize the StandardScaler\n",
        "scaler = StandardScaler()\n",
        "\n",
        "# Apply Z-score normalization to the numerical columns\n",
        "df_W[numerical_columns] = scaler.fit_transform(df_W[numerical_columns])\n",
        "\n",
        "print(\"Z-score normalization applied to numerical columns:\")\n",
        "print(df_W.head())"
      ],
      "metadata": {
        "colab": {
          "base_uri": "https://localhost:8080/"
        },
        "id": "2bunvpIrsZHx",
        "outputId": "8437bc6f-10dc-4f57-f02c-aacece21b32c"
      },
      "execution_count": 9,
      "outputs": [
        {
          "output_type": "stream",
          "name": "stdout",
          "text": [
            "Z-score normalization applied to numerical columns:\n",
            "            City           State Country  Latitude  Longitude  Timezone  \\\n",
            "0  Visakhapatnam  Andhra Pradesh   India   17.6900    83.2093     19800   \n",
            "1     Vijayawada  Andhra Pradesh   India   16.5167    80.6167     19800   \n",
            "2         Guntur  Andhra Pradesh   India   16.3000    80.4500     19800   \n",
            "3        Nellore  Andhra Pradesh   India   14.4333    79.9667     19800   \n",
            "4       Kakinada  Andhra Pradesh   India   16.9333    82.2167     19800   \n",
            "\n",
            "  Timestamp (OpenWeatherMap) Sunrise Sunset  Temperature  ...  Wind Speed  \\\n",
            "0        2024-09-20 08:50:26   00:15  12:25     0.266617  ...   -0.267212   \n",
            "1        2024-09-20 08:50:26   00:25  12:34     0.679231  ...    1.841337   \n",
            "2        2024-09-20 08:50:26   00:25  12:34     0.558886  ...    0.400990   \n",
            "3        2024-09-20 08:50:27   00:30  12:39     1.023076  ...    2.331352   \n",
            "4        2024-09-20 08:50:27   00:21  12:30     0.593270  ...    0.623724   \n",
            "\n",
            "   Wind Direction  Weather Description  Max Temperature  Min Temperature  \\\n",
            "0             144     Scattered clouds        -0.025799         0.854395   \n",
            "1             300            Clear sky         0.613174         1.002308   \n",
            "2             310        Broken clouds         0.593206         0.946841   \n",
            "3             312            Clear sky         1.032500         0.872884   \n",
            "4             253        Broken clouds         0.133945         0.724971   \n",
            "\n",
            "        AQI     PM2.5      PM10        O3         CO  \n",
            "0  1.864032  6.374828  6.075254 -2.226015  15.051667  \n",
            "1  0.188749 -0.384740 -0.453070  0.249830  -0.487349  \n",
            "2  0.188749 -0.184769 -0.224301  0.347750  -0.334342  \n",
            "3  0.188749 -0.297651 -0.394655  0.510950  -0.708403  \n",
            "4 -0.648893 -0.628711 -0.724766 -0.566398  -0.062353  \n",
            "\n",
            "[5 rows x 28 columns]\n"
          ]
        }
      ]
    },
    {
      "cell_type": "code",
      "source": [
        "print(df_W)"
      ],
      "metadata": {
        "colab": {
          "base_uri": "https://localhost:8080/"
        },
        "id": "I15bKAD3pxVt",
        "outputId": "452bd75a-4dcc-4b2f-d8f2-3f6ba4a78e79"
      },
      "execution_count": 11,
      "outputs": [
        {
          "output_type": "stream",
          "name": "stdout",
          "text": [
            "              City           State Country  Latitude  Longitude  Timezone  \\\n",
            "0    Visakhapatnam  Andhra Pradesh   India   17.6900    83.2093     19800   \n",
            "1       Vijayawada  Andhra Pradesh   India   16.5167    80.6167     19800   \n",
            "2           Guntur  Andhra Pradesh   India   16.3000    80.4500     19800   \n",
            "3          Nellore  Andhra Pradesh   India   14.4333    79.9667     19800   \n",
            "4         Kakinada  Andhra Pradesh   India   16.9333    82.2167     19800   \n",
            "..             ...             ...     ...       ...        ...       ...   \n",
            "745      Shiquanhe           Ngari   Tibet   32.5167    80.0667     28800   \n",
            "746            Gar           Ngari   Tibet   32.2000    79.9833     28800   \n",
            "747          Rutog           Ngari   Tibet   33.4184    79.6392     28800   \n",
            "748          Zanda           Ngari   Tibet   31.4813    79.8013     28800   \n",
            "749           Geji           Ngari   Tibet   32.4167    81.0833     28800   \n",
            "\n",
            "    Timestamp (OpenWeatherMap) Sunrise Sunset  Temperature  ...  Wind Speed  \\\n",
            "0          2024-09-20 08:50:26   00:15  12:25     0.266617  ...   -0.267212   \n",
            "1          2024-09-20 08:50:26   00:25  12:34     0.679231  ...    1.841337   \n",
            "2          2024-09-20 08:50:26   00:25  12:34     0.558886  ...    0.400990   \n",
            "3          2024-09-20 08:50:27   00:30  12:39     1.023076  ...    2.331352   \n",
            "4          2024-09-20 08:50:27   00:21  12:30     0.593270  ...    0.623724   \n",
            "..                         ...     ...    ...          ...  ...         ...   \n",
            "745        2024-09-20 08:54:26   00:18  12:31    -2.810795  ...    0.178256   \n",
            "746        2024-09-20 08:54:26   00:18  12:31    -3.876714  ...    0.475235   \n",
            "747        2024-09-20 08:54:27   00:18  12:31    -3.962675  ...    1.217682   \n",
            "748        2024-09-20 08:54:27   00:18  12:31    -2.380989  ...   -0.192967   \n",
            "749        2024-09-20 08:54:27   00:18  12:31    -3.034294  ...   -0.192967   \n",
            "\n",
            "     Wind Direction  Weather Description  Max Temperature  Min Temperature  \\\n",
            "0               144     Scattered clouds        -0.025799         0.854395   \n",
            "1               300            Clear sky         0.613174         1.002308   \n",
            "2               310        Broken clouds         0.593206         0.946841   \n",
            "3               312            Clear sky         1.032500         0.872884   \n",
            "4               253        Broken clouds         0.133945         0.724971   \n",
            "..              ...                  ...              ...              ...   \n",
            "745             214            Clear sky        -3.260599        -3.934289   \n",
            "746             224            Clear sky        -3.520181        -4.156159   \n",
            "747             219            Clear sky        -3.140791        -3.878822   \n",
            "748              28            Clear sky        -3.040952        -3.509039   \n",
            "749             261            Clear sky        -3.360438        -4.581408   \n",
            "\n",
            "          AQI     PM2.5      PM10        O3         CO  \n",
            "0    1.864032  6.374828  6.075254 -2.226015  15.051667  \n",
            "1    0.188749 -0.384740 -0.453070  0.249830  -0.487349  \n",
            "2    0.188749 -0.184769 -0.224301  0.347750  -0.334342  \n",
            "3    0.188749 -0.297651 -0.394655  0.510950  -0.708403  \n",
            "4   -0.648893 -0.628711 -0.724766 -0.566398  -0.062353  \n",
            "..        ...       ...       ...       ...        ...  \n",
            "745 -0.648893 -0.860240 -0.746502 -0.582832  -1.218408  \n",
            "746 -0.648893 -0.858116 -0.753838 -0.533758  -1.209902  \n",
            "747 -0.648893 -0.887551 -0.883709 -0.746032  -1.116386  \n",
            "748 -0.648893 -0.846585 -0.680480 -0.517552  -1.175928  \n",
            "749 -0.648893 -0.900295 -0.950003 -0.403198  -1.303417  \n",
            "\n",
            "[750 rows x 28 columns]\n"
          ]
        }
      ]
    },
    {
      "cell_type": "markdown",
      "source": [
        "##Types of categorical values\n",
        "\n",
        "The **unique()** function is used to retrieve all unique values from the 'Weather Description' column, and these are printed.\n",
        "The **nunique()** function is applied to count the number of distinct weather descriptions, and this count is printed.\n",
        "The **value_counts()** function calculates the frequency of each unique weather description, displaying how often each category appears in the column."
      ],
      "metadata": {
        "id": "bScf9Opk8jlX"
      }
    },
    {
      "cell_type": "code",
      "source": [
        "# Find unique categories in the 'Weather Description' column\n",
        "unique_categories = df_W['Weather Description'].unique()\n",
        "print(\"Unique Weather Descriptions:\")\n",
        "print(unique_categories)\n",
        "\n",
        "# Count the number of unique categories\n",
        "num_unique_categories = df_W['Weather Description'].nunique()\n",
        "print(f\"\\nTotal number of unique Weather Descriptions: {num_unique_categories}\")\n",
        "\n",
        "# Display the frequency of each category\n",
        "category_counts = df_W['Weather Description'].value_counts()\n",
        "print(\"\\nFrequency of each Weather Description:\")\n",
        "print(category_counts)"
      ],
      "metadata": {
        "colab": {
          "base_uri": "https://localhost:8080/"
        },
        "id": "mv2B_Pn0pxQB",
        "outputId": "d2ae205d-6add-4475-bd25-fe35e9143464"
      },
      "execution_count": 12,
      "outputs": [
        {
          "output_type": "stream",
          "name": "stdout",
          "text": [
            "Unique Weather Descriptions:\n",
            "['Scattered clouds' 'Clear sky' 'Broken clouds' 'Overcast clouds' 'Haze'\n",
            " 'Light rain' 'Drizzle' 'Smoke' 'Few clouds' 'Moderate rain']\n",
            "\n",
            "Total number of unique Weather Descriptions: 10\n",
            "\n",
            "Frequency of each Weather Description:\n",
            "Weather Description\n",
            "Clear sky           424\n",
            "Haze                227\n",
            "Light rain           36\n",
            "Scattered clouds     18\n",
            "Broken clouds        18\n",
            "Drizzle               8\n",
            "Smoke                 7\n",
            "Overcast clouds       6\n",
            "Few clouds            3\n",
            "Moderate rain         3\n",
            "Name: count, dtype: int64\n"
          ]
        }
      ]
    },
    {
      "cell_type": "markdown",
      "source": [
        "## One-hot encoding\n",
        "**One-hot encoding is preferred for nominal data as it represents each category as a separate binary feature, avoiding the implication of ordinal relationships that label encoding might introduce.**\n",
        "The **pd.get_dummies()** function is used to create binary (0 or 1) columns for each unique value in the 'Weather Description' column, prefixing the new columns with \"Weather\" and dropping the first category to avoid multicollinearity.\n",
        "\n",
        "A loop iterates through the columns of the resulting DataFrame (df_encoded), and if the column name starts with \"Weather\", it converts the values in that column to integers (0 and 1)."
      ],
      "metadata": {
        "id": "EWn_GX0k9H74"
      }
    },
    {
      "cell_type": "code",
      "source": [
        "# Apply One-Hot Encoding on 'Weather Description'\n",
        "df_encoded = pd.get_dummies(df_W, columns=['Weather Description'], prefix='Weather', drop_first=True)\n",
        "\n",
        "# Convert only the one-hot encoded columns to integers\n",
        "for col in df_encoded.columns:\n",
        "    if 'Weather_' in col:  # Check if the column is one of the new encoded columns\n",
        "        df_encoded[col] = df_encoded[col].astype(int)\n",
        "\n",
        "# Display the resulting dataframe\n",
        "print(df_encoded.head())"
      ],
      "metadata": {
        "colab": {
          "base_uri": "https://localhost:8080/"
        },
        "id": "_CGmkRl4pw99",
        "outputId": "214afd6f-0fad-4e78-bc44-e8f8e9d7b362"
      },
      "execution_count": 13,
      "outputs": [
        {
          "output_type": "stream",
          "name": "stdout",
          "text": [
            "            City           State Country  Latitude  Longitude  Timezone  \\\n",
            "0  Visakhapatnam  Andhra Pradesh   India   17.6900    83.2093     19800   \n",
            "1     Vijayawada  Andhra Pradesh   India   16.5167    80.6167     19800   \n",
            "2         Guntur  Andhra Pradesh   India   16.3000    80.4500     19800   \n",
            "3        Nellore  Andhra Pradesh   India   14.4333    79.9667     19800   \n",
            "4       Kakinada  Andhra Pradesh   India   16.9333    82.2167     19800   \n",
            "\n",
            "  Timestamp (OpenWeatherMap) Sunrise Sunset  Temperature  ...         CO  \\\n",
            "0        2024-09-20 08:50:26   00:15  12:25     0.266617  ...  15.051667   \n",
            "1        2024-09-20 08:50:26   00:25  12:34     0.679231  ...  -0.487349   \n",
            "2        2024-09-20 08:50:26   00:25  12:34     0.558886  ...  -0.334342   \n",
            "3        2024-09-20 08:50:27   00:30  12:39     1.023076  ...  -0.708403   \n",
            "4        2024-09-20 08:50:27   00:21  12:30     0.593270  ...  -0.062353   \n",
            "\n",
            "   Weather_Clear sky  Weather_Drizzle  Weather_Few clouds  Weather_Haze  \\\n",
            "0                  0                0                   0             0   \n",
            "1                  1                0                   0             0   \n",
            "2                  0                0                   0             0   \n",
            "3                  1                0                   0             0   \n",
            "4                  0                0                   0             0   \n",
            "\n",
            "   Weather_Light rain  Weather_Moderate rain  Weather_Overcast clouds  \\\n",
            "0                   0                      0                        0   \n",
            "1                   0                      0                        0   \n",
            "2                   0                      0                        0   \n",
            "3                   0                      0                        0   \n",
            "4                   0                      0                        0   \n",
            "\n",
            "   Weather_Scattered clouds  Weather_Smoke  \n",
            "0                         1              0  \n",
            "1                         0              0  \n",
            "2                         0              0  \n",
            "3                         0              0  \n",
            "4                         0              0  \n",
            "\n",
            "[5 rows x 36 columns]\n"
          ]
        }
      ]
    },
    {
      "cell_type": "markdown",
      "source": [
        "##Create New Features\n",
        "\n",
        "The code performs **binning on the Temperature column of the DataFrame df_W**. It defines temperature ranges using the bins_temp list, which categorizes temperatures as **'Very Cold' (below 0°C), 'Cold' (0°C to 15°C), 'Warm' (15°C to 30°C), and 'Hot' (above 30°C)**. The **pd.cut()** function is then used to assign each temperature value to its corresponding category. This new categorical feature, **Temperature_Category**, helps in simplifying temperature analysis and modeling."
      ],
      "metadata": {
        "id": "tTSQ40gK-PHC"
      }
    },
    {
      "cell_type": "code",
      "source": [
        "# Binning TemperatureComfort\n",
        "bins_temp = [-float('inf'), 0, 15, 30, float('inf')]\n",
        "labels_temp = ['Very Cold', 'Cold', 'Warm', 'Hot']\n",
        "df_W['Temperature_Category'] = pd.cut(df_W['Temperature'], bins=bins_temp, labels=labels_temp)\n"
      ],
      "metadata": {
        "id": "8XrjxY9gw4yl"
      },
      "execution_count": 15,
      "outputs": []
    },
    {
      "cell_type": "code",
      "source": [
        "print(df_W)"
      ],
      "metadata": {
        "colab": {
          "base_uri": "https://localhost:8080/"
        },
        "id": "AN9wjJDkxsxD",
        "outputId": "a2f02a11-2184-4006-c838-77496548d70d"
      },
      "execution_count": 16,
      "outputs": [
        {
          "output_type": "stream",
          "name": "stdout",
          "text": [
            "              City           State Country  Latitude  Longitude  Timezone  \\\n",
            "0    Visakhapatnam  Andhra Pradesh   India   17.6900    83.2093     19800   \n",
            "1       Vijayawada  Andhra Pradesh   India   16.5167    80.6167     19800   \n",
            "2           Guntur  Andhra Pradesh   India   16.3000    80.4500     19800   \n",
            "3          Nellore  Andhra Pradesh   India   14.4333    79.9667     19800   \n",
            "4         Kakinada  Andhra Pradesh   India   16.9333    82.2167     19800   \n",
            "..             ...             ...     ...       ...        ...       ...   \n",
            "745      Shiquanhe           Ngari   Tibet   32.5167    80.0667     28800   \n",
            "746            Gar           Ngari   Tibet   32.2000    79.9833     28800   \n",
            "747          Rutog           Ngari   Tibet   33.4184    79.6392     28800   \n",
            "748          Zanda           Ngari   Tibet   31.4813    79.8013     28800   \n",
            "749           Geji           Ngari   Tibet   32.4167    81.0833     28800   \n",
            "\n",
            "    Timestamp (OpenWeatherMap) Sunrise Sunset  Temperature  ...  \\\n",
            "0          2024-09-20 08:50:26   00:15  12:25     0.266617  ...   \n",
            "1          2024-09-20 08:50:26   00:25  12:34     0.679231  ...   \n",
            "2          2024-09-20 08:50:26   00:25  12:34     0.558886  ...   \n",
            "3          2024-09-20 08:50:27   00:30  12:39     1.023076  ...   \n",
            "4          2024-09-20 08:50:27   00:21  12:30     0.593270  ...   \n",
            "..                         ...     ...    ...          ...  ...   \n",
            "745        2024-09-20 08:54:26   00:18  12:31    -2.810795  ...   \n",
            "746        2024-09-20 08:54:26   00:18  12:31    -3.876714  ...   \n",
            "747        2024-09-20 08:54:27   00:18  12:31    -3.962675  ...   \n",
            "748        2024-09-20 08:54:27   00:18  12:31    -2.380989  ...   \n",
            "749        2024-09-20 08:54:27   00:18  12:31    -3.034294  ...   \n",
            "\n",
            "     Wind Direction  Weather Description  Max Temperature  Min Temperature  \\\n",
            "0               144     Scattered clouds        -0.025799         0.854395   \n",
            "1               300            Clear sky         0.613174         1.002308   \n",
            "2               310        Broken clouds         0.593206         0.946841   \n",
            "3               312            Clear sky         1.032500         0.872884   \n",
            "4               253        Broken clouds         0.133945         0.724971   \n",
            "..              ...                  ...              ...              ...   \n",
            "745             214            Clear sky        -3.260599        -3.934289   \n",
            "746             224            Clear sky        -3.520181        -4.156159   \n",
            "747             219            Clear sky        -3.140791        -3.878822   \n",
            "748              28            Clear sky        -3.040952        -3.509039   \n",
            "749             261            Clear sky        -3.360438        -4.581408   \n",
            "\n",
            "          AQI     PM2.5      PM10        O3         CO  Temperature_Category  \n",
            "0    1.864032  6.374828  6.075254 -2.226015  15.051667                  Cold  \n",
            "1    0.188749 -0.384740 -0.453070  0.249830  -0.487349                  Cold  \n",
            "2    0.188749 -0.184769 -0.224301  0.347750  -0.334342                  Cold  \n",
            "3    0.188749 -0.297651 -0.394655  0.510950  -0.708403                  Cold  \n",
            "4   -0.648893 -0.628711 -0.724766 -0.566398  -0.062353                  Cold  \n",
            "..        ...       ...       ...       ...        ...                   ...  \n",
            "745 -0.648893 -0.860240 -0.746502 -0.582832  -1.218408             Very Cold  \n",
            "746 -0.648893 -0.858116 -0.753838 -0.533758  -1.209902             Very Cold  \n",
            "747 -0.648893 -0.887551 -0.883709 -0.746032  -1.116386             Very Cold  \n",
            "748 -0.648893 -0.846585 -0.680480 -0.517552  -1.175928             Very Cold  \n",
            "749 -0.648893 -0.900295 -0.950003 -0.403198  -1.303417             Very Cold  \n",
            "\n",
            "[750 rows x 29 columns]\n"
          ]
        }
      ]
    },
    {
      "cell_type": "markdown",
      "source": [
        "## New Feature (Comfort Index)\n",
        "\n",
        "The code calculates a **Comfort_Index for each entry in the DataFrame df_W using a formula that incorporates both temperature and humidity**. This index aims to quantify how comfortable the weather feels based on the temperature, adjusted for humidity levels. Specifically, it accounts for the discomfort that high humidity can create at elevated temperatures. By computing this index, the analysis can better reflect perceived comfort levels in various weather conditions, aiding in applications like weather forecasting or public health advisories."
      ],
      "metadata": {
        "id": "1wFb-tcS-qac"
      }
    },
    {
      "cell_type": "code",
      "source": [
        "# Comfort Index (example)\n",
        "df_W['Comfort_Index'] = df_W['Temperature'] - (0.55 - 0.55 * (df_W['Humidity'] / 100)) * (df_W['Temperature'] - 58)\n"
      ],
      "metadata": {
        "id": "6SlqAGZS1iiO"
      },
      "execution_count": 17,
      "outputs": []
    },
    {
      "cell_type": "code",
      "source": [
        "print(df_W)"
      ],
      "metadata": {
        "colab": {
          "base_uri": "https://localhost:8080/"
        },
        "id": "81p8myWH13Ey",
        "outputId": "7f43e1db-29dd-48a2-b820-1d7e5a69baa5"
      },
      "execution_count": 18,
      "outputs": [
        {
          "output_type": "stream",
          "name": "stdout",
          "text": [
            "              City           State Country  Latitude  Longitude  Timezone  \\\n",
            "0    Visakhapatnam  Andhra Pradesh   India   17.6900    83.2093     19800   \n",
            "1       Vijayawada  Andhra Pradesh   India   16.5167    80.6167     19800   \n",
            "2           Guntur  Andhra Pradesh   India   16.3000    80.4500     19800   \n",
            "3          Nellore  Andhra Pradesh   India   14.4333    79.9667     19800   \n",
            "4         Kakinada  Andhra Pradesh   India   16.9333    82.2167     19800   \n",
            "..             ...             ...     ...       ...        ...       ...   \n",
            "745      Shiquanhe           Ngari   Tibet   32.5167    80.0667     28800   \n",
            "746            Gar           Ngari   Tibet   32.2000    79.9833     28800   \n",
            "747          Rutog           Ngari   Tibet   33.4184    79.6392     28800   \n",
            "748          Zanda           Ngari   Tibet   31.4813    79.8013     28800   \n",
            "749           Geji           Ngari   Tibet   32.4167    81.0833     28800   \n",
            "\n",
            "    Timestamp (OpenWeatherMap) Sunrise Sunset  Temperature  ...  \\\n",
            "0          2024-09-20 08:50:26   00:15  12:25     0.266617  ...   \n",
            "1          2024-09-20 08:50:26   00:25  12:34     0.679231  ...   \n",
            "2          2024-09-20 08:50:26   00:25  12:34     0.558886  ...   \n",
            "3          2024-09-20 08:50:27   00:30  12:39     1.023076  ...   \n",
            "4          2024-09-20 08:50:27   00:21  12:30     0.593270  ...   \n",
            "..                         ...     ...    ...          ...  ...   \n",
            "745        2024-09-20 08:54:26   00:18  12:31    -2.810795  ...   \n",
            "746        2024-09-20 08:54:26   00:18  12:31    -3.876714  ...   \n",
            "747        2024-09-20 08:54:27   00:18  12:31    -3.962675  ...   \n",
            "748        2024-09-20 08:54:27   00:18  12:31    -2.380989  ...   \n",
            "749        2024-09-20 08:54:27   00:18  12:31    -3.034294  ...   \n",
            "\n",
            "     Weather Description  Max Temperature  Min Temperature       AQI  \\\n",
            "0       Scattered clouds        -0.025799         0.854395  1.864032   \n",
            "1              Clear sky         0.613174         1.002308  0.188749   \n",
            "2          Broken clouds         0.593206         0.946841  0.188749   \n",
            "3              Clear sky         1.032500         0.872884  0.188749   \n",
            "4          Broken clouds         0.133945         0.724971 -0.648893   \n",
            "..                   ...              ...              ...       ...   \n",
            "745            Clear sky        -3.260599        -3.934289 -0.648893   \n",
            "746            Clear sky        -3.520181        -4.156159 -0.648893   \n",
            "747            Clear sky        -3.140791        -3.878822 -0.648893   \n",
            "748            Clear sky        -3.040952        -3.509039 -0.648893   \n",
            "749            Clear sky        -3.360438        -4.581408 -0.648893   \n",
            "\n",
            "        PM2.5      PM10        O3         CO  Temperature_Category  \\\n",
            "0    6.374828  6.075254 -2.226015  15.051667                  Cold   \n",
            "1   -0.384740 -0.453070  0.249830  -0.487349                  Cold   \n",
            "2   -0.184769 -0.224301  0.347750  -0.334342                  Cold   \n",
            "3   -0.297651 -0.394655  0.510950  -0.708403                  Cold   \n",
            "4   -0.628711 -0.724766 -0.566398  -0.062353                  Cold   \n",
            "..        ...       ...       ...        ...                   ...   \n",
            "745 -0.860240 -0.746502 -0.582832  -1.218408             Very Cold   \n",
            "746 -0.858116 -0.753838 -0.533758  -1.209902             Very Cold   \n",
            "747 -0.887551 -0.883709 -0.746032  -1.116386             Very Cold   \n",
            "748 -0.846585 -0.680480 -0.517552  -1.175928             Very Cold   \n",
            "749 -0.900295 -0.950003 -0.403198  -1.303417             Very Cold   \n",
            "\n",
            "     Comfort_Index  \n",
            "0        31.899794  \n",
            "1        32.222102  \n",
            "2        32.226292  \n",
            "3        32.781610  \n",
            "4        32.202869  \n",
            "..             ...  \n",
            "745      31.228752  \n",
            "746      30.487301  \n",
            "747      30.553914  \n",
            "748      31.479264  \n",
            "749      31.130359  \n",
            "\n",
            "[750 rows x 30 columns]\n"
          ]
        }
      ]
    }
  ]
}