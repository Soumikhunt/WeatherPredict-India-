{
  "nbformat": 4,
  "nbformat_minor": 0,
  "metadata": {
    "colab": {
      "provenance": [],
      "toc_visible": true
    },
    "kernelspec": {
      "name": "python3",
      "display_name": "Python 3"
    },
    "language_info": {
      "name": "python"
    }
  },
  "cells": [
    {
      "cell_type": "markdown",
      "source": [
        "#**1)Install PySpark in Google Colab**"
      ],
      "metadata": {
        "id": "F40zcd4TICF4"
      }
    },
    {
      "cell_type": "code",
      "source": [
        "!pip install pyspark"
      ],
      "metadata": {
        "colab": {
          "base_uri": "https://localhost:8080/"
        },
        "id": "jApFt_HDILbu",
        "outputId": "68be5f6d-1c84-4d86-c486-bce726b01375"
      },
      "execution_count": 1,
      "outputs": [
        {
          "output_type": "stream",
          "name": "stdout",
          "text": [
            "Requirement already satisfied: pyspark in /usr/local/lib/python3.10/dist-packages (3.5.3)\n",
            "Requirement already satisfied: py4j==0.10.9.7 in /usr/local/lib/python3.10/dist-packages (from pyspark) (0.10.9.7)\n"
          ]
        }
      ]
    },
    {
      "cell_type": "code",
      "source": [
        "!pyspark --version"
      ],
      "metadata": {
        "colab": {
          "base_uri": "https://localhost:8080/"
        },
        "id": "JjFtbunOJNff",
        "outputId": "e5d584be-acdc-4e31-8def-2e73518a6fb3"
      },
      "execution_count": 4,
      "outputs": [
        {
          "output_type": "stream",
          "name": "stdout",
          "text": [
            "Welcome to\n",
            "      ____              __\n",
            "     / __/__  ___ _____/ /__\n",
            "    _\\ \\/ _ \\/ _ `/ __/  '_/\n",
            "   /___/ .__/\\_,_/_/ /_/\\_\\   version 3.5.3\n",
            "      /_/\n",
            "                        \n",
            "Using Scala version 2.12.18, OpenJDK 64-Bit Server VM, 11.0.25\n",
            "Branch HEAD\n",
            "Compiled by user haejoon.lee on 2024-09-09T05:20:05Z\n",
            "Revision 32232e9ed33bb16b93ad58cfde8b82e0f07c0970\n",
            "Url https://github.com/apache/spark\n",
            "Type --help for more information.\n"
          ]
        }
      ]
    },
    {
      "cell_type": "markdown",
      "source": [
        "#**2)Setup and Initialize PySpark**"
      ],
      "metadata": {
        "id": "inlzJGbNIb4P"
      }
    },
    {
      "cell_type": "code",
      "source": [
        "from pyspark.sql import SparkSession\n",
        "\n",
        "# Create a Spark session\n",
        "spark = SparkSession.builder.appName(\"AQISPARK\") .getOrCreate()"
      ],
      "metadata": {
        "id": "VaZW83IiIQE_"
      },
      "execution_count": 8,
      "outputs": []
    },
    {
      "cell_type": "code",
      "source": [
        "print(spark.version)"
      ],
      "metadata": {
        "colab": {
          "base_uri": "https://localhost:8080/"
        },
        "id": "Qb_caYeQJaaP",
        "outputId": "d682c15c-2ad5-40f3-a640-16293cfd2e5f"
      },
      "execution_count": 7,
      "outputs": [
        {
          "output_type": "stream",
          "name": "stdout",
          "text": [
            "3.5.3\n"
          ]
        }
      ]
    },
    {
      "cell_type": "markdown",
      "source": [
        "#**3)Load the dataset prepared by you**"
      ],
      "metadata": {
        "id": "N4BNfAEKJ7sm"
      }
    },
    {
      "cell_type": "markdown",
      "source": [
        "![image.png](data:image/png;base64,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)"
      ],
      "metadata": {
        "id": "1gD8-gDOK2t3"
      }
    },
    {
      "cell_type": "markdown",
      "source": [
        "#**4)Load the dataset file into a PySpark DataFrame**"
      ],
      "metadata": {
        "id": "HPp9TLyOLGJm"
      }
    },
    {
      "cell_type": "code",
      "source": [
        "file_path = \"/content/kolkata_aqi_2021_2024_with_components.csv\""
      ],
      "metadata": {
        "id": "JzV6FjWgJpMO"
      },
      "execution_count": 9,
      "outputs": []
    },
    {
      "cell_type": "code",
      "source": [
        "data1 = spark.read.csv(file_path, header=True, inferSchema=True)"
      ],
      "metadata": {
        "id": "Bay8Tom7LaNu"
      },
      "execution_count": 10,
      "outputs": []
    },
    {
      "cell_type": "code",
      "source": [
        "data1.show()"
      ],
      "metadata": {
        "colab": {
          "base_uri": "https://localhost:8080/"
        },
        "id": "6tFPRCEWLeTt",
        "outputId": "a1c4b99e-fe7a-4ebc-e287-f6b3e5f68611"
      },
      "execution_count": 12,
      "outputs": [
        {
          "output_type": "stream",
          "name": "stdout",
          "text": [
            "+-------------------+---+-------+------+------+------+------+------+-------+------+\n",
            "|               Date|AQI|     CO|    NO|   NO2|    O3|   SO2| PM2_5|   PM10|   NH3|\n",
            "+-------------------+---+-------+------+------+------+------+------+-------+------+\n",
            "|2021-01-01 00:00:00|  5|1735.69|  0.43| 52.09| 16.81| 42.44|306.22|  340.9|  7.73|\n",
            "|2021-01-01 01:00:00|  5|2136.23|  5.53| 59.63|  4.43| 47.68|336.27| 378.39| 11.91|\n",
            "|2021-01-01 02:00:00|  5|2857.21| 25.03| 61.69|  1.29| 61.99|380.62| 437.19| 20.77|\n",
            "|2021-01-01 03:00:00|  5|2990.72| 33.98| 65.12| 10.01| 74.39|380.91| 444.49|  26.6|\n",
            "|2021-01-01 04:00:00|  5|2243.04| 18.11| 66.49| 43.27| 103.0|333.07| 384.09| 20.52|\n",
            "|2021-01-01 05:00:00|  5|1976.01| 13.08| 65.12| 82.97|118.26|323.14|  370.9| 18.49|\n",
            "|2021-01-01 06:00:00|  5|1735.69|  9.16| 61.01|125.89|125.89|318.36| 362.85| 15.96|\n",
            "|2021-01-01 07:00:00|  5|1148.22|   4.3| 39.07|174.52| 104.9|235.88|  261.0|  8.61|\n",
            "|2021-01-01 08:00:00|  5| 974.66|  2.99| 32.56|188.83| 89.65| 192.5|  210.6|  7.92|\n",
            "|2021-01-01 09:00:00|  5|  934.6|  2.32| 33.59|188.83| 85.83|174.11| 190.81|  8.87|\n",
            "|2021-01-01 10:00:00|  5|2376.56|  8.27| 93.22| 98.71| 95.37|250.31| 290.51| 31.92|\n",
            "|2021-01-01 11:00:00|  5|4219.06| 40.23|138.46| 11.18| 97.28|349.87| 428.24|  53.7|\n",
            "|2021-01-01 12:00:00|  5|5714.42|110.87|126.12|   0.1|100.14|427.01| 540.77| 70.93|\n",
            "|2021-01-01 13:00:00|  5|7263.18|168.09|123.38|   0.0|116.35|526.54|  675.7| 95.25|\n",
            "|2021-01-01 14:00:00|  5|8544.92|194.91|120.64|   0.0|127.79|648.65| 836.92|115.51|\n",
            "|2021-01-01 15:00:00|  5|9506.23|202.06|115.16|   0.0|127.79|749.75| 971.55| 114.5|\n",
            "|2021-01-01 16:00:00|  5|9719.85|191.33|109.67|   0.0|113.49|807.03|1041.86| 92.21|\n",
            "|2021-01-01 17:00:00|  5|9185.79|168.09|101.45|   0.0| 87.74|792.17|1017.68| 58.26|\n",
            "|2021-01-01 18:00:00|  5|7156.37|121.59| 94.59|   0.0| 57.22|656.45| 839.11| 27.61|\n",
            "|2021-01-01 19:00:00|  5|3952.03|  38.0| 97.33|  0.01| 40.05|427.01| 524.91|  11.4|\n",
            "+-------------------+---+-------+------+------+------+------+------+-------+------+\n",
            "only showing top 20 rows\n",
            "\n"
          ]
        }
      ]
    },
    {
      "cell_type": "markdown",
      "source": [
        "##**1.Verify the Schema**"
      ],
      "metadata": {
        "id": "3jdf1YntL2g1"
      }
    },
    {
      "cell_type": "code",
      "source": [
        "data1.printSchema()"
      ],
      "metadata": {
        "colab": {
          "base_uri": "https://localhost:8080/"
        },
        "id": "ScY9htbZLqL9",
        "outputId": "78cd379f-4347-4fc8-ffe6-2629ce4a1269"
      },
      "execution_count": 13,
      "outputs": [
        {
          "output_type": "stream",
          "name": "stdout",
          "text": [
            "root\n",
            " |-- Date: timestamp (nullable = true)\n",
            " |-- AQI: integer (nullable = true)\n",
            " |-- CO: double (nullable = true)\n",
            " |-- NO: double (nullable = true)\n",
            " |-- NO2: double (nullable = true)\n",
            " |-- O3: double (nullable = true)\n",
            " |-- SO2: double (nullable = true)\n",
            " |-- PM2_5: double (nullable = true)\n",
            " |-- PM10: double (nullable = true)\n",
            " |-- NH3: double (nullable = true)\n",
            "\n"
          ]
        }
      ]
    },
    {
      "cell_type": "markdown",
      "source": [
        "#**5)Apply one filter operation on an attribute belonging to the dataset**"
      ],
      "metadata": {
        "id": "0L04Q7-2Mhol"
      }
    },
    {
      "cell_type": "code",
      "source": [
        "filtered_data = data1.filter(data1[\"AQI\"] == 4)"
      ],
      "metadata": {
        "id": "JzNU7AoIMHt-"
      },
      "execution_count": 29,
      "outputs": []
    },
    {
      "cell_type": "code",
      "source": [
        "filtered_data.show()"
      ],
      "metadata": {
        "colab": {
          "base_uri": "https://localhost:8080/"
        },
        "id": "B10GmpftNBh2",
        "outputId": "a67bc105-3fcb-4d02-c8f2-f000715435d0"
      },
      "execution_count": 30,
      "outputs": [
        {
          "output_type": "stream",
          "name": "stdout",
          "text": [
            "+-------------------+---+------+----+-----+------+-----+-----+-----+-----+\n",
            "|               Date|AQI|    CO|  NO|  NO2|    O3|  SO2|PM2_5| PM10|  NH3|\n",
            "+-------------------+---+------+----+-----+------+-----+-----+-----+-----+\n",
            "|2021-02-07 07:00:00|  4|607.49|1.51|16.11|151.63|38.15|40.48|48.93| 6.14|\n",
            "|2021-02-07 08:00:00|  4|520.71|1.22|12.51|151.63|30.04|32.23|38.26| 5.13|\n",
            "|2021-02-07 09:00:00|  4|500.68|1.17|13.02|153.07|30.99|33.08|38.88| 5.32|\n",
            "|2021-02-07 10:00:00|  4|647.54|1.75|23.31|143.05|42.92|43.72|52.71| 8.99|\n",
            "|2021-03-09 20:00:00|  4|774.38|1.23|32.56|  6.44| 39.1|48.77|70.92|13.05|\n",
            "|2021-03-09 21:00:00|  4| 714.3|0.43|29.82| 11.44|38.15|45.92|65.75|11.91|\n",
            "|2021-03-09 22:00:00|  4| 687.6|0.32|29.13| 13.23|38.62|44.95|63.07|11.02|\n",
            "|2021-03-09 23:00:00|  4|674.25|0.44|28.45|  11.8|38.62|43.42|60.18|10.13|\n",
            "|2021-03-10 00:00:00|  4|680.92|0.94|28.79|   8.4| 39.1|42.54|58.69| 9.63|\n",
            "|2021-03-10 01:00:00|  4|834.47|3.52|32.22|   3.8|44.82|49.02|66.83|11.91|\n",
            "|2021-04-01 19:00:00|  4|707.63|0.31|30.16|  15.2|38.62|44.35|91.76| 6.27|\n",
            "|2021-04-01 20:00:00|  4|594.14|0.05|25.36| 24.32|35.76|40.04|88.27| 5.13|\n",
            "|2021-04-01 21:00:00|  4|554.09|0.03|23.31| 26.11|34.33| 37.6|84.67| 4.88|\n",
            "|2021-04-01 22:00:00|  4|614.17|0.05|25.71| 23.25|37.67|41.73|88.27| 5.89|\n",
            "|2021-04-01 23:00:00|  4|754.36|0.19|30.85| 16.09|41.96|49.89|96.28| 7.09|\n",
            "|2021-04-02 19:00:00|  4|921.25|2.04|36.67|  4.16|45.78|48.76|89.43| 8.74|\n",
            "|2021-04-02 20:00:00|  4|761.03|0.48|31.19| 10.01|37.67|40.74|77.92|  6.9|\n",
            "|2021-04-02 21:00:00|  4| 687.6|0.21|28.79| 14.31|35.29|37.14|70.13| 6.33|\n",
            "|2021-04-02 22:00:00|  4|654.22|0.15|28.45| 16.09|36.24|36.02| 66.8| 6.21|\n",
            "|2021-04-02 23:00:00|  4|647.54|0.15|29.47| 16.27|39.58| 36.7|67.56|  6.4|\n",
            "+-------------------+---+------+----+-----+------+-----+-----+-----+-----+\n",
            "only showing top 20 rows\n",
            "\n"
          ]
        }
      ]
    },
    {
      "cell_type": "markdown",
      "source": [
        "#**6)Group the data by the value of an attribute and apply the  sum function on the attribute**"
      ],
      "metadata": {
        "id": "54cHGc5-OwF1"
      }
    },
    {
      "cell_type": "markdown",
      "source": [
        "##**1)Group by Date and Sum AQI**"
      ],
      "metadata": {
        "id": "AZv2s49XPc-V"
      }
    },
    {
      "cell_type": "code",
      "source": [
        "from pyspark.sql.functions import date_format, col, sum"
      ],
      "metadata": {
        "id": "LusnENY4NIFM"
      },
      "execution_count": 36,
      "outputs": []
    },
    {
      "cell_type": "code",
      "source": [
        "# Extract year-month from the Date column\n",
        "data1_with_month = data1.withColumn(\"Year_Month\", date_format(col(\"Date\"), \"yyyy-MM\"))"
      ],
      "metadata": {
        "id": "ouEdXSPQPHNM"
      },
      "execution_count": 38,
      "outputs": []
    },
    {
      "cell_type": "code",
      "source": [
        "# Group by the Year-Month column and calculate the total AQI\n",
        "monthly_aqi_sum = data1_with_month.groupBy(\"Year_Month\").agg(sum(\"AQI\").alias(\"Total_AQI\"))\n"
      ],
      "metadata": {
        "id": "oDOoLOaGPLQM"
      },
      "execution_count": 39,
      "outputs": []
    },
    {
      "cell_type": "code",
      "source": [
        "monthly_aqi_sum.show()"
      ],
      "metadata": {
        "colab": {
          "base_uri": "https://localhost:8080/"
        },
        "id": "S2yZGQaXPTNE",
        "outputId": "08732e11-ccf0-4073-f1d7-f3ab4633025b"
      },
      "execution_count": 40,
      "outputs": [
        {
          "output_type": "stream",
          "name": "stdout",
          "text": [
            "+----------+---------+\n",
            "|Year_Month|Total_AQI|\n",
            "+----------+---------+\n",
            "|   2024-09|     2713|\n",
            "|   2023-08|     3175|\n",
            "|   2024-02|     3473|\n",
            "|   2021-07|     3194|\n",
            "|   2022-04|     2882|\n",
            "|   2023-12|     3701|\n",
            "|   2021-04|     3481|\n",
            "|   2023-11|     3501|\n",
            "|   2022-06|     3056|\n",
            "|   2021-06|     3349|\n",
            "|   2022-02|     3241|\n",
            "|   2022-08|     3158|\n",
            "|   2023-07|     2275|\n",
            "|   2021-11|     3605|\n",
            "|   2024-08|     2993|\n",
            "|   2023-03|     3485|\n",
            "|   2023-10|     3435|\n",
            "|   2021-03|     3719|\n",
            "|   2021-02|     3356|\n",
            "|   2022-07|     2553|\n",
            "+----------+---------+\n",
            "only showing top 20 rows\n",
            "\n"
          ]
        }
      ]
    },
    {
      "cell_type": "markdown",
      "source": [
        "##**2)Group by AQI and Sum Another Attribute (PM2_5)**"
      ],
      "metadata": {
        "id": "rkIHENEvQ2cV"
      }
    },
    {
      "cell_type": "code",
      "source": [
        "grouped_data = data1.groupBy(\"AQI\").agg(sum(\"PM2_5\").alias(\"Total_PM2_5\"))\n"
      ],
      "metadata": {
        "id": "5-jT8JHIQo4E"
      },
      "execution_count": 41,
      "outputs": []
    },
    {
      "cell_type": "code",
      "source": [
        "grouped_data.show()"
      ],
      "metadata": {
        "colab": {
          "base_uri": "https://localhost:8080/"
        },
        "id": "VGTezdFxRC4M",
        "outputId": "9ae8b8f8-a94b-4a2e-d06d-9174f9172d6d"
      },
      "execution_count": 42,
      "outputs": [
        {
          "output_type": "stream",
          "name": "stdout",
          "text": [
            "+---+------------------+\n",
            "|AQI|       Total_PM2_5|\n",
            "+---+------------------+\n",
            "|  1| 665.5800000000003|\n",
            "|  3|108314.07999999993|\n",
            "|  5| 7162574.940000003|\n",
            "|  4|223817.43999999957|\n",
            "|  2| 28713.29999999997|\n",
            "+---+------------------+\n",
            "\n"
          ]
        }
      ]
    },
    {
      "cell_type": "markdown",
      "source": [
        "#**7) Based on your understanding, add a new column from the existing attributes to the dataset.**"
      ],
      "metadata": {
        "id": "ByxirDQuX0Ha"
      }
    },
    {
      "cell_type": "code",
      "source": [
        "from pyspark.sql.functions import when, col"
      ],
      "metadata": {
        "id": "he9PF0tsRFnT"
      },
      "execution_count": 49,
      "outputs": []
    },
    {
      "cell_type": "code",
      "source": [
        "data1_with_co_category = data1.withColumn(\n",
        "    \"CO_Category\",\n",
        "    when(col(\"CO\") <= 2000, \"Low\")\n",
        "    .when((col(\"CO\") > 2000) & (col(\"CO\") <= 4000), \"Moderate\")\n",
        "    .when((col(\"CO\") > 4000) & (col(\"CO\") <= 6000), \"High\")\n",
        "    .otherwise(\"Very High\")\n",
        ")"
      ],
      "metadata": {
        "id": "c1D6n5AaX4Z5"
      },
      "execution_count": 50,
      "outputs": []
    },
    {
      "cell_type": "code",
      "source": [
        "data1_with_co_category.show()"
      ],
      "metadata": {
        "colab": {
          "base_uri": "https://localhost:8080/"
        },
        "id": "gpw6vJI2X7Fx",
        "outputId": "8b07a201-5f64-4d3b-c326-ae78a8b6c71c"
      },
      "execution_count": 52,
      "outputs": [
        {
          "output_type": "stream",
          "name": "stdout",
          "text": [
            "+-------------------+---+-------+------+------+------+------+------+-------+------+-----------+\n",
            "|               Date|AQI|     CO|    NO|   NO2|    O3|   SO2| PM2_5|   PM10|   NH3|CO_Category|\n",
            "+-------------------+---+-------+------+------+------+------+------+-------+------+-----------+\n",
            "|2021-01-01 00:00:00|  5|1735.69|  0.43| 52.09| 16.81| 42.44|306.22|  340.9|  7.73|        Low|\n",
            "|2021-01-01 01:00:00|  5|2136.23|  5.53| 59.63|  4.43| 47.68|336.27| 378.39| 11.91|   Moderate|\n",
            "|2021-01-01 02:00:00|  5|2857.21| 25.03| 61.69|  1.29| 61.99|380.62| 437.19| 20.77|   Moderate|\n",
            "|2021-01-01 03:00:00|  5|2990.72| 33.98| 65.12| 10.01| 74.39|380.91| 444.49|  26.6|   Moderate|\n",
            "|2021-01-01 04:00:00|  5|2243.04| 18.11| 66.49| 43.27| 103.0|333.07| 384.09| 20.52|   Moderate|\n",
            "|2021-01-01 05:00:00|  5|1976.01| 13.08| 65.12| 82.97|118.26|323.14|  370.9| 18.49|        Low|\n",
            "|2021-01-01 06:00:00|  5|1735.69|  9.16| 61.01|125.89|125.89|318.36| 362.85| 15.96|        Low|\n",
            "|2021-01-01 07:00:00|  5|1148.22|   4.3| 39.07|174.52| 104.9|235.88|  261.0|  8.61|        Low|\n",
            "|2021-01-01 08:00:00|  5| 974.66|  2.99| 32.56|188.83| 89.65| 192.5|  210.6|  7.92|        Low|\n",
            "|2021-01-01 09:00:00|  5|  934.6|  2.32| 33.59|188.83| 85.83|174.11| 190.81|  8.87|        Low|\n",
            "|2021-01-01 10:00:00|  5|2376.56|  8.27| 93.22| 98.71| 95.37|250.31| 290.51| 31.92|   Moderate|\n",
            "|2021-01-01 11:00:00|  5|4219.06| 40.23|138.46| 11.18| 97.28|349.87| 428.24|  53.7|       High|\n",
            "|2021-01-01 12:00:00|  5|5714.42|110.87|126.12|   0.1|100.14|427.01| 540.77| 70.93|       High|\n",
            "|2021-01-01 13:00:00|  5|7263.18|168.09|123.38|   0.0|116.35|526.54|  675.7| 95.25|  Very High|\n",
            "|2021-01-01 14:00:00|  5|8544.92|194.91|120.64|   0.0|127.79|648.65| 836.92|115.51|  Very High|\n",
            "|2021-01-01 15:00:00|  5|9506.23|202.06|115.16|   0.0|127.79|749.75| 971.55| 114.5|  Very High|\n",
            "|2021-01-01 16:00:00|  5|9719.85|191.33|109.67|   0.0|113.49|807.03|1041.86| 92.21|  Very High|\n",
            "|2021-01-01 17:00:00|  5|9185.79|168.09|101.45|   0.0| 87.74|792.17|1017.68| 58.26|  Very High|\n",
            "|2021-01-01 18:00:00|  5|7156.37|121.59| 94.59|   0.0| 57.22|656.45| 839.11| 27.61|  Very High|\n",
            "|2021-01-01 19:00:00|  5|3952.03|  38.0| 97.33|  0.01| 40.05|427.01| 524.91|  11.4|   Moderate|\n",
            "+-------------------+---+-------+------+------+------+------+------+-------+------+-----------+\n",
            "only showing top 20 rows\n",
            "\n"
          ]
        }
      ]
    },
    {
      "cell_type": "markdown",
      "source": [
        "#**8)Setup Spark and Import Libraries for Machine Learning**"
      ],
      "metadata": {
        "id": "VshVoY5fZ1JC"
      }
    },
    {
      "cell_type": "code",
      "source": [
        "from pyspark.sql import SparkSession\n",
        "from pyspark.ml import *\n",
        "from pyspark.ml.classification import RandomForestClassifier\n",
        "from pyspark.ml.regression import LinearRegression\n",
        "from pyspark.ml.feature import VectorAssembler\n",
        "from pyspark.ml.evaluation import RegressionEvaluator"
      ],
      "metadata": {
        "id": "reXlSKbMYOxp"
      },
      "execution_count": 53,
      "outputs": []
    },
    {
      "cell_type": "markdown",
      "source": [
        "#**9)Based on the nature of the attributes, apply any one regression and/or classification algorithm to the prepared data. Remember, you need to use the ML models available in Pyspark. Do not use classical ML models.**"
      ],
      "metadata": {
        "id": "ALyyo2NRav0Z"
      }
    },
    {
      "cell_type": "code",
      "source": [
        "from pyspark.sql import SparkSession\n",
        "from pyspark.ml.regression import RandomForestRegressor\n",
        "from pyspark.ml.feature import VectorAssembler\n",
        "from pyspark.ml.evaluation import RegressionEvaluator"
      ],
      "metadata": {
        "id": "F-y2e_uUZ_xx"
      },
      "execution_count": 66,
      "outputs": []
    },
    {
      "cell_type": "code",
      "source": [
        "spark = SparkSession.builder \\\n",
        "    .appName(\"AQI Prediction\") \\\n",
        "    .getOrCreate()\n"
      ],
      "metadata": {
        "id": "hPSuGqsibuap"
      },
      "execution_count": 67,
      "outputs": []
    },
    {
      "cell_type": "code",
      "source": [
        "data2 = spark.read.csv(\"/content/kolkata_aqi_2021_2024_with_components.csv\", header=True, inferSchema=True)"
      ],
      "metadata": {
        "id": "bm8yzhcGa74Y"
      },
      "execution_count": 68,
      "outputs": []
    },
    {
      "cell_type": "code",
      "source": [
        "assembler = VectorAssembler(inputCols=[\"CO\", \"NO\", \"NO2\", \"O3\", \"PM2_5\", \"PM10\", \"NH3\"], outputCol=\"features\")"
      ],
      "metadata": {
        "id": "qPAbZUf_bAsR"
      },
      "execution_count": 69,
      "outputs": []
    },
    {
      "cell_type": "code",
      "source": [
        "df = assembler.transform(data2)"
      ],
      "metadata": {
        "id": "yOeLTpOGb5HB"
      },
      "execution_count": 70,
      "outputs": []
    },
    {
      "cell_type": "code",
      "source": [
        "train_data, test_data = df.randomSplit([0.8, 0.2], seed=1234)"
      ],
      "metadata": {
        "id": "09e49C9qbHqw"
      },
      "execution_count": 71,
      "outputs": []
    },
    {
      "cell_type": "code",
      "source": [
        "rf = RandomForestRegressor(featuresCol=\"features\", labelCol=\"AQI\")"
      ],
      "metadata": {
        "id": "3eIhmUyHbRO4"
      },
      "execution_count": 72,
      "outputs": []
    },
    {
      "cell_type": "code",
      "source": [
        "lr_model = lr.fit(train_data)"
      ],
      "metadata": {
        "id": "ZtgIo6kNbTmo"
      },
      "execution_count": 64,
      "outputs": []
    },
    {
      "cell_type": "code",
      "source": [
        "rf_model = rf.fit(train_data)"
      ],
      "metadata": {
        "id": "0DAc4MI3bV8o"
      },
      "execution_count": 73,
      "outputs": []
    },
    {
      "cell_type": "code",
      "source": [
        "predictions = rf_model.transform(test_data)\n"
      ],
      "metadata": {
        "id": "MgamSY4NcDUA"
      },
      "execution_count": 74,
      "outputs": []
    },
    {
      "cell_type": "code",
      "source": [
        "predictions.select(\"features\", \"AQI\", \"prediction\").show(5)"
      ],
      "metadata": {
        "colab": {
          "base_uri": "https://localhost:8080/"
        },
        "id": "yPRcQwZ8cyOA",
        "outputId": "871e9e5c-b2dc-4830-ae3b-67c5ee9d621f"
      },
      "execution_count": 75,
      "outputs": [
        {
          "output_type": "stream",
          "name": "stdout",
          "text": [
            "+--------------------+---+-----------------+\n",
            "|            features|AQI|       prediction|\n",
            "+--------------------+---+-----------------+\n",
            "|[2136.23,5.53,59....|  5|4.999921264451956|\n",
            "|[2243.04,18.11,66...|  5|4.999812735288327|\n",
            "|[2429.96,3.19,73....|  5|4.999921264451956|\n",
            "|[2109.53,2.07,50....|  5|4.999921264451956|\n",
            "|[2296.45,8.27,50....|  5|4.999921264451956|\n",
            "+--------------------+---+-----------------+\n",
            "only showing top 5 rows\n",
            "\n"
          ]
        }
      ]
    },
    {
      "cell_type": "code",
      "source": [
        "evaluator = RegressionEvaluator(labelCol=\"AQI\", predictionCol=\"prediction\", metricName=\"rmse\")\n",
        "rmse = evaluator.evaluate(predictions)\n"
      ],
      "metadata": {
        "id": "iGcp1zjwc1F4"
      },
      "execution_count": 76,
      "outputs": []
    },
    {
      "cell_type": "code",
      "source": [
        "print(f\"Root Mean Squared Error (RMSE): {rmse}\")"
      ],
      "metadata": {
        "colab": {
          "base_uri": "https://localhost:8080/"
        },
        "id": "sO5rVOupc5jw",
        "outputId": "db6b54bf-8be5-4769-ba1b-74ca92da8e46"
      },
      "execution_count": 77,
      "outputs": [
        {
          "output_type": "stream",
          "name": "stdout",
          "text": [
            "Root Mean Squared Error (RMSE): 0.3008940350196318\n"
          ]
        }
      ]
    },
    {
      "cell_type": "markdown",
      "source": [
        "#**10)Create a synthetic dataset with 10,00,000 rows and three columns where the first column is id, 2nd and 3rd columns are numeric values randomly generated using Python functions**"
      ],
      "metadata": {
        "id": "bmLbcxH1gMfZ"
      }
    },
    {
      "cell_type": "code",
      "source": [
        "import pandas as pd\n",
        "import numpy as np"
      ],
      "metadata": {
        "id": "gxFu7SLlc88I"
      },
      "execution_count": 78,
      "outputs": []
    },
    {
      "cell_type": "code",
      "source": [
        "def generate_synthetic_data(rows):\n",
        "    # Generate 'id' as a range of numbers from 1 to `rows`\n",
        "    ids = np.arange(1, rows + 1)\n",
        "\n",
        "    # Generate random numeric data for column 2 (float values between 0 and 100)\n",
        "    column_2 = np.random.rand(rows) * 100\n",
        "\n",
        "    # Generate random integer data for column 3 (integers between 1 and 100)\n",
        "    column_3 = np.random.randint(1, 100, size=rows)\n",
        "\n",
        "    # Create a pandas DataFrame with the generated data\n",
        "    data = pd.DataFrame({\n",
        "        'id': ids,\n",
        "        'column_2': column_2,\n",
        "        'column_3': column_3\n",
        "    })\n",
        "\n",
        "    return data"
      ],
      "metadata": {
        "id": "UvJDPHbXhDDn"
      },
      "execution_count": 79,
      "outputs": []
    },
    {
      "cell_type": "code",
      "source": [
        "synthetic_data = generate_synthetic_data(1000000)\n"
      ],
      "metadata": {
        "id": "fsazASVGhHuG"
      },
      "execution_count": 80,
      "outputs": []
    },
    {
      "cell_type": "code",
      "source": [
        "synthetic_data.head()"
      ],
      "metadata": {
        "colab": {
          "base_uri": "https://localhost:8080/",
          "height": 206
        },
        "id": "nEhTI8EchLQe",
        "outputId": "1180599b-1491-4cb8-e812-69af0350d47c"
      },
      "execution_count": 81,
      "outputs": [
        {
          "output_type": "execute_result",
          "data": {
            "text/plain": [
              "   id   column_2  column_3\n",
              "0   1  68.638981        38\n",
              "1   2  16.107090        61\n",
              "2   3  46.827666        25\n",
              "3   4  72.243346        24\n",
              "4   5  94.610237        30"
            ],
            "text/html": [
              "\n",
              "  <div id=\"df-f393514c-2b11-4426-bdcb-3dc1695d8307\" class=\"colab-df-container\">\n",
              "    <div>\n",
              "<style scoped>\n",
              "    .dataframe tbody tr th:only-of-type {\n",
              "        vertical-align: middle;\n",
              "    }\n",
              "\n",
              "    .dataframe tbody tr th {\n",
              "        vertical-align: top;\n",
              "    }\n",
              "\n",
              "    .dataframe thead th {\n",
              "        text-align: right;\n",
              "    }\n",
              "</style>\n",
              "<table border=\"1\" class=\"dataframe\">\n",
              "  <thead>\n",
              "    <tr style=\"text-align: right;\">\n",
              "      <th></th>\n",
              "      <th>id</th>\n",
              "      <th>column_2</th>\n",
              "      <th>column_3</th>\n",
              "    </tr>\n",
              "  </thead>\n",
              "  <tbody>\n",
              "    <tr>\n",
              "      <th>0</th>\n",
              "      <td>1</td>\n",
              "      <td>68.638981</td>\n",
              "      <td>38</td>\n",
              "    </tr>\n",
              "    <tr>\n",
              "      <th>1</th>\n",
              "      <td>2</td>\n",
              "      <td>16.107090</td>\n",
              "      <td>61</td>\n",
              "    </tr>\n",
              "    <tr>\n",
              "      <th>2</th>\n",
              "      <td>3</td>\n",
              "      <td>46.827666</td>\n",
              "      <td>25</td>\n",
              "    </tr>\n",
              "    <tr>\n",
              "      <th>3</th>\n",
              "      <td>4</td>\n",
              "      <td>72.243346</td>\n",
              "      <td>24</td>\n",
              "    </tr>\n",
              "    <tr>\n",
              "      <th>4</th>\n",
              "      <td>5</td>\n",
              "      <td>94.610237</td>\n",
              "      <td>30</td>\n",
              "    </tr>\n",
              "  </tbody>\n",
              "</table>\n",
              "</div>\n",
              "    <div class=\"colab-df-buttons\">\n",
              "\n",
              "  <div class=\"colab-df-container\">\n",
              "    <button class=\"colab-df-convert\" onclick=\"convertToInteractive('df-f393514c-2b11-4426-bdcb-3dc1695d8307')\"\n",
              "            title=\"Convert this dataframe to an interactive table.\"\n",
              "            style=\"display:none;\">\n",
              "\n",
              "  <svg xmlns=\"http://www.w3.org/2000/svg\" height=\"24px\" viewBox=\"0 -960 960 960\">\n",
              "    <path d=\"M120-120v-720h720v720H120Zm60-500h600v-160H180v160Zm220 220h160v-160H400v160Zm0 220h160v-160H400v160ZM180-400h160v-160H180v160Zm440 0h160v-160H620v160ZM180-180h160v-160H180v160Zm440 0h160v-160H620v160Z\"/>\n",
              "  </svg>\n",
              "    </button>\n",
              "\n",
              "  <style>\n",
              "    .colab-df-container {\n",
              "      display:flex;\n",
              "      gap: 12px;\n",
              "    }\n",
              "\n",
              "    .colab-df-convert {\n",
              "      background-color: #E8F0FE;\n",
              "      border: none;\n",
              "      border-radius: 50%;\n",
              "      cursor: pointer;\n",
              "      display: none;\n",
              "      fill: #1967D2;\n",
              "      height: 32px;\n",
              "      padding: 0 0 0 0;\n",
              "      width: 32px;\n",
              "    }\n",
              "\n",
              "    .colab-df-convert:hover {\n",
              "      background-color: #E2EBFA;\n",
              "      box-shadow: 0px 1px 2px rgba(60, 64, 67, 0.3), 0px 1px 3px 1px rgba(60, 64, 67, 0.15);\n",
              "      fill: #174EA6;\n",
              "    }\n",
              "\n",
              "    .colab-df-buttons div {\n",
              "      margin-bottom: 4px;\n",
              "    }\n",
              "\n",
              "    [theme=dark] .colab-df-convert {\n",
              "      background-color: #3B4455;\n",
              "      fill: #D2E3FC;\n",
              "    }\n",
              "\n",
              "    [theme=dark] .colab-df-convert:hover {\n",
              "      background-color: #434B5C;\n",
              "      box-shadow: 0px 1px 3px 1px rgba(0, 0, 0, 0.15);\n",
              "      filter: drop-shadow(0px 1px 2px rgba(0, 0, 0, 0.3));\n",
              "      fill: #FFFFFF;\n",
              "    }\n",
              "  </style>\n",
              "\n",
              "    <script>\n",
              "      const buttonEl =\n",
              "        document.querySelector('#df-f393514c-2b11-4426-bdcb-3dc1695d8307 button.colab-df-convert');\n",
              "      buttonEl.style.display =\n",
              "        google.colab.kernel.accessAllowed ? 'block' : 'none';\n",
              "\n",
              "      async function convertToInteractive(key) {\n",
              "        const element = document.querySelector('#df-f393514c-2b11-4426-bdcb-3dc1695d8307');\n",
              "        const dataTable =\n",
              "          await google.colab.kernel.invokeFunction('convertToInteractive',\n",
              "                                                    [key], {});\n",
              "        if (!dataTable) return;\n",
              "\n",
              "        const docLinkHtml = 'Like what you see? Visit the ' +\n",
              "          '<a target=\"_blank\" href=https://colab.research.google.com/notebooks/data_table.ipynb>data table notebook</a>'\n",
              "          + ' to learn more about interactive tables.';\n",
              "        element.innerHTML = '';\n",
              "        dataTable['output_type'] = 'display_data';\n",
              "        await google.colab.output.renderOutput(dataTable, element);\n",
              "        const docLink = document.createElement('div');\n",
              "        docLink.innerHTML = docLinkHtml;\n",
              "        element.appendChild(docLink);\n",
              "      }\n",
              "    </script>\n",
              "  </div>\n",
              "\n",
              "\n",
              "<div id=\"df-1140d47a-8a3b-45d5-91ea-6d5f5a59e7d6\">\n",
              "  <button class=\"colab-df-quickchart\" onclick=\"quickchart('df-1140d47a-8a3b-45d5-91ea-6d5f5a59e7d6')\"\n",
              "            title=\"Suggest charts\"\n",
              "            style=\"display:none;\">\n",
              "\n",
              "<svg xmlns=\"http://www.w3.org/2000/svg\" height=\"24px\"viewBox=\"0 0 24 24\"\n",
              "     width=\"24px\">\n",
              "    <g>\n",
              "        <path d=\"M19 3H5c-1.1 0-2 .9-2 2v14c0 1.1.9 2 2 2h14c1.1 0 2-.9 2-2V5c0-1.1-.9-2-2-2zM9 17H7v-7h2v7zm4 0h-2V7h2v10zm4 0h-2v-4h2v4z\"/>\n",
              "    </g>\n",
              "</svg>\n",
              "  </button>\n",
              "\n",
              "<style>\n",
              "  .colab-df-quickchart {\n",
              "      --bg-color: #E8F0FE;\n",
              "      --fill-color: #1967D2;\n",
              "      --hover-bg-color: #E2EBFA;\n",
              "      --hover-fill-color: #174EA6;\n",
              "      --disabled-fill-color: #AAA;\n",
              "      --disabled-bg-color: #DDD;\n",
              "  }\n",
              "\n",
              "  [theme=dark] .colab-df-quickchart {\n",
              "      --bg-color: #3B4455;\n",
              "      --fill-color: #D2E3FC;\n",
              "      --hover-bg-color: #434B5C;\n",
              "      --hover-fill-color: #FFFFFF;\n",
              "      --disabled-bg-color: #3B4455;\n",
              "      --disabled-fill-color: #666;\n",
              "  }\n",
              "\n",
              "  .colab-df-quickchart {\n",
              "    background-color: var(--bg-color);\n",
              "    border: none;\n",
              "    border-radius: 50%;\n",
              "    cursor: pointer;\n",
              "    display: none;\n",
              "    fill: var(--fill-color);\n",
              "    height: 32px;\n",
              "    padding: 0;\n",
              "    width: 32px;\n",
              "  }\n",
              "\n",
              "  .colab-df-quickchart:hover {\n",
              "    background-color: var(--hover-bg-color);\n",
              "    box-shadow: 0 1px 2px rgba(60, 64, 67, 0.3), 0 1px 3px 1px rgba(60, 64, 67, 0.15);\n",
              "    fill: var(--button-hover-fill-color);\n",
              "  }\n",
              "\n",
              "  .colab-df-quickchart-complete:disabled,\n",
              "  .colab-df-quickchart-complete:disabled:hover {\n",
              "    background-color: var(--disabled-bg-color);\n",
              "    fill: var(--disabled-fill-color);\n",
              "    box-shadow: none;\n",
              "  }\n",
              "\n",
              "  .colab-df-spinner {\n",
              "    border: 2px solid var(--fill-color);\n",
              "    border-color: transparent;\n",
              "    border-bottom-color: var(--fill-color);\n",
              "    animation:\n",
              "      spin 1s steps(1) infinite;\n",
              "  }\n",
              "\n",
              "  @keyframes spin {\n",
              "    0% {\n",
              "      border-color: transparent;\n",
              "      border-bottom-color: var(--fill-color);\n",
              "      border-left-color: var(--fill-color);\n",
              "    }\n",
              "    20% {\n",
              "      border-color: transparent;\n",
              "      border-left-color: var(--fill-color);\n",
              "      border-top-color: var(--fill-color);\n",
              "    }\n",
              "    30% {\n",
              "      border-color: transparent;\n",
              "      border-left-color: var(--fill-color);\n",
              "      border-top-color: var(--fill-color);\n",
              "      border-right-color: var(--fill-color);\n",
              "    }\n",
              "    40% {\n",
              "      border-color: transparent;\n",
              "      border-right-color: var(--fill-color);\n",
              "      border-top-color: var(--fill-color);\n",
              "    }\n",
              "    60% {\n",
              "      border-color: transparent;\n",
              "      border-right-color: var(--fill-color);\n",
              "    }\n",
              "    80% {\n",
              "      border-color: transparent;\n",
              "      border-right-color: var(--fill-color);\n",
              "      border-bottom-color: var(--fill-color);\n",
              "    }\n",
              "    90% {\n",
              "      border-color: transparent;\n",
              "      border-bottom-color: var(--fill-color);\n",
              "    }\n",
              "  }\n",
              "</style>\n",
              "\n",
              "  <script>\n",
              "    async function quickchart(key) {\n",
              "      const quickchartButtonEl =\n",
              "        document.querySelector('#' + key + ' button');\n",
              "      quickchartButtonEl.disabled = true;  // To prevent multiple clicks.\n",
              "      quickchartButtonEl.classList.add('colab-df-spinner');\n",
              "      try {\n",
              "        const charts = await google.colab.kernel.invokeFunction(\n",
              "            'suggestCharts', [key], {});\n",
              "      } catch (error) {\n",
              "        console.error('Error during call to suggestCharts:', error);\n",
              "      }\n",
              "      quickchartButtonEl.classList.remove('colab-df-spinner');\n",
              "      quickchartButtonEl.classList.add('colab-df-quickchart-complete');\n",
              "    }\n",
              "    (() => {\n",
              "      let quickchartButtonEl =\n",
              "        document.querySelector('#df-1140d47a-8a3b-45d5-91ea-6d5f5a59e7d6 button');\n",
              "      quickchartButtonEl.style.display =\n",
              "        google.colab.kernel.accessAllowed ? 'block' : 'none';\n",
              "    })();\n",
              "  </script>\n",
              "</div>\n",
              "\n",
              "    </div>\n",
              "  </div>\n"
            ],
            "application/vnd.google.colaboratory.intrinsic+json": {
              "type": "dataframe",
              "variable_name": "synthetic_data"
            }
          },
          "metadata": {},
          "execution_count": 81
        }
      ]
    },
    {
      "cell_type": "code",
      "source": [
        "from google.colab import files"
      ],
      "metadata": {
        "id": "6-hufzxhhN1G"
      },
      "execution_count": 82,
      "outputs": []
    },
    {
      "cell_type": "code",
      "source": [
        "file_path = '/content/synthetic_data.csv'\n",
        "synthetic_data.to_csv(file_path, index=False)"
      ],
      "metadata": {
        "id": "g9ml7l87hdZO"
      },
      "execution_count": 83,
      "outputs": []
    },
    {
      "cell_type": "code",
      "source": [
        "files.download(file_path)"
      ],
      "metadata": {
        "colab": {
          "base_uri": "https://localhost:8080/",
          "height": 17
        },
        "id": "A-qaHvXthfl-",
        "outputId": "96670048-2866-4687-fab3-e3212b2907f1"
      },
      "execution_count": 84,
      "outputs": [
        {
          "output_type": "display_data",
          "data": {
            "text/plain": [
              "<IPython.core.display.Javascript object>"
            ],
            "application/javascript": [
              "\n",
              "    async function download(id, filename, size) {\n",
              "      if (!google.colab.kernel.accessAllowed) {\n",
              "        return;\n",
              "      }\n",
              "      const div = document.createElement('div');\n",
              "      const label = document.createElement('label');\n",
              "      label.textContent = `Downloading \"${filename}\": `;\n",
              "      div.appendChild(label);\n",
              "      const progress = document.createElement('progress');\n",
              "      progress.max = size;\n",
              "      div.appendChild(progress);\n",
              "      document.body.appendChild(div);\n",
              "\n",
              "      const buffers = [];\n",
              "      let downloaded = 0;\n",
              "\n",
              "      const channel = await google.colab.kernel.comms.open(id);\n",
              "      // Send a message to notify the kernel that we're ready.\n",
              "      channel.send({})\n",
              "\n",
              "      for await (const message of channel.messages) {\n",
              "        // Send a message to notify the kernel that we're ready.\n",
              "        channel.send({})\n",
              "        if (message.buffers) {\n",
              "          for (const buffer of message.buffers) {\n",
              "            buffers.push(buffer);\n",
              "            downloaded += buffer.byteLength;\n",
              "            progress.value = downloaded;\n",
              "          }\n",
              "        }\n",
              "      }\n",
              "      const blob = new Blob(buffers, {type: 'application/binary'});\n",
              "      const a = document.createElement('a');\n",
              "      a.href = window.URL.createObjectURL(blob);\n",
              "      a.download = filename;\n",
              "      div.appendChild(a);\n",
              "      a.click();\n",
              "      div.remove();\n",
              "    }\n",
              "  "
            ]
          },
          "metadata": {}
        },
        {
          "output_type": "display_data",
          "data": {
            "text/plain": [
              "<IPython.core.display.Javascript object>"
            ],
            "application/javascript": [
              "download(\"download_25545522-a26a-4259-a5bc-a5acd34200d9\", \"synthetic_data.csv\", 27980750)"
            ]
          },
          "metadata": {}
        }
      ]
    },
    {
      "cell_type": "markdown",
      "source": [
        "![image.png](data:image/png;base64,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)"
      ],
      "metadata": {
        "id": "x6tTbPboh51_"
      }
    },
    {
      "cell_type": "markdown",
      "source": [
        "#**11)Load the created dataset and Apply Aggregation Functions**"
      ],
      "metadata": {
        "id": "fgEtYcSaiJS3"
      }
    },
    {
      "cell_type": "code",
      "source": [
        "data_spark = spark.read.csv(\"/content/synthetic_data.csv\", header=True, inferSchema=True)\n",
        "data_spark.printSchema()"
      ],
      "metadata": {
        "colab": {
          "base_uri": "https://localhost:8080/"
        },
        "id": "thwA0hRVhklu",
        "outputId": "5a7c401c-eb0d-42b4-9101-60c6f77c9f69"
      },
      "execution_count": 85,
      "outputs": [
        {
          "output_type": "stream",
          "name": "stdout",
          "text": [
            "root\n",
            " |-- id: integer (nullable = true)\n",
            " |-- column_2: double (nullable = true)\n",
            " |-- column_3: integer (nullable = true)\n",
            "\n"
          ]
        }
      ]
    },
    {
      "cell_type": "code",
      "source": [
        "data_pd = pd.read_csv(\"/content/synthetic_data.csv\")\n"
      ],
      "metadata": {
        "id": "cjoJooaDicKe"
      },
      "execution_count": 86,
      "outputs": []
    },
    {
      "cell_type": "markdown",
      "source": [
        "##**Aggregation in Pandas**"
      ],
      "metadata": {
        "id": "J4BUACpuivBP"
      }
    },
    {
      "cell_type": "code",
      "source": [
        "import time"
      ],
      "metadata": {
        "id": "lmRht5TPin2m"
      },
      "execution_count": 87,
      "outputs": []
    },
    {
      "cell_type": "code",
      "source": [
        "# Aggregation in Pandas\n",
        "start_time = time.time()"
      ],
      "metadata": {
        "id": "DUeyA4YejAOe"
      },
      "execution_count": 90,
      "outputs": []
    },
    {
      "cell_type": "code",
      "source": [
        "agg_pd = data_pd.agg([\"sum\", \"mean\"])"
      ],
      "metadata": {
        "id": "ruCiKtw-jcO_"
      },
      "execution_count": 92,
      "outputs": []
    },
    {
      "cell_type": "code",
      "source": [
        "end_time = time.time()"
      ],
      "metadata": {
        "id": "6LTGs0NMjnNZ"
      },
      "execution_count": 93,
      "outputs": []
    },
    {
      "cell_type": "code",
      "source": [
        "print(\"Aggregated Result:\")\n",
        "print(agg_pd)\n",
        "print(f\"Execution Time: {end_time - start_time} seconds\")"
      ],
      "metadata": {
        "colab": {
          "base_uri": "https://localhost:8080/"
        },
        "id": "zGAaBDkzjFeC",
        "outputId": "13472eaa-6018-4459-ac84-bf2f9de1ff8c"
      },
      "execution_count": 94,
      "outputs": [
        {
          "output_type": "stream",
          "name": "stdout",
          "text": [
            "Aggregated Result:\n",
            "                id      column_2      column_3\n",
            "sum   5.000005e+11  5.004379e+07  4.998875e+07\n",
            "mean  5.000005e+05  5.004379e+01  4.998875e+01\n",
            "Execution Time: 59.02417492866516 seconds\n"
          ]
        }
      ]
    },
    {
      "cell_type": "markdown",
      "source": [
        "##**Aggregation in Spark**\n"
      ],
      "metadata": {
        "id": "iFhylvIwjyr_"
      }
    },
    {
      "cell_type": "code",
      "source": [
        "from pyspark.sql.functions import sum, mean\n",
        "start_time = time.time()"
      ],
      "metadata": {
        "id": "N3B-VrmijrLW"
      },
      "execution_count": 95,
      "outputs": []
    },
    {
      "cell_type": "code",
      "source": [
        "agg_spark = data_spark.select(\n",
        "    sum(\"column_2\").alias(\"sum_value1\"),\n",
        "    mean(\"column_2\").alias(\"mean_value1\"),\n",
        "    sum(\"column_3\").alias(\"sum_value2\"),\n",
        "    mean(\"column_3\").alias(\"mean_value2\")\n",
        ").collect()\n",
        "\n",
        "end_time = time.time()\n",
        "\n",
        "print(\"Spark Aggregation Results:\")\n",
        "for row in agg_spark:\n",
        "    print(row)"
      ],
      "metadata": {
        "colab": {
          "base_uri": "https://localhost:8080/"
        },
        "id": "A2nBer80kG_e",
        "outputId": "ab3f92c3-d4f2-45d5-b6e3-897c386f9bb9"
      },
      "execution_count": 98,
      "outputs": [
        {
          "output_type": "stream",
          "name": "stdout",
          "text": [
            "Spark Aggregation Results:\n",
            "Row(sum_value1=50043789.39282063, mean_value1=50.04378939282063, sum_value2=49988746, mean_value2=49.988746)\n"
          ]
        }
      ]
    },
    {
      "cell_type": "code",
      "source": [
        "print(f\"Spark Execution Time: {end_time - start_time:.4f} seconds\")"
      ],
      "metadata": {
        "colab": {
          "base_uri": "https://localhost:8080/"
        },
        "id": "1I9oj0EMkNdW",
        "outputId": "c166c288-725e-4c3b-9fb3-b27183e1d3ee"
      },
      "execution_count": 99,
      "outputs": [
        {
          "output_type": "stream",
          "name": "stdout",
          "text": [
            "Spark Execution Time: 126.2205 seconds\n"
          ]
        }
      ]
    },
    {
      "cell_type": "code",
      "source": [],
      "metadata": {
        "id": "ZmoF_E_5kr0-"
      },
      "execution_count": null,
      "outputs": []
    }
  ]
}